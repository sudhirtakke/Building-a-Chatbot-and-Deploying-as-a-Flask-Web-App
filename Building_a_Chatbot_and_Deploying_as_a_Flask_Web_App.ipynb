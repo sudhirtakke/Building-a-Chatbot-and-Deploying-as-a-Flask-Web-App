{
  "nbformat": 4,
  "nbformat_minor": 0,
  "metadata": {
    "accelerator": "GPU",
    "colab": {
      "name": "Building a Chatbot and Deploying as a Flask Web App.ipynb",
      "provenance": [],
      "collapsed_sections": [],
      "machine_shape": "hm",
      "include_colab_link": true
    },
    "hide_input": false,
    "kernelspec": {
      "display_name": "Python 3",
      "language": "python",
      "name": "python3"
    },
    "language_info": {
      "codemirror_mode": {
        "name": "ipython",
        "version": 3
      },
      "file_extension": ".py",
      "mimetype": "text/x-python",
      "name": "python",
      "nbconvert_exporter": "python",
      "pygments_lexer": "ipython3",
      "version": "3.7.5"
    },
    "toc": {
      "base_numbering": 1,
      "nav_menu": {},
      "number_sections": false,
      "sideBar": true,
      "skip_h1_title": true,
      "title_cell": "Table of Contents",
      "title_sidebar": "Contents",
      "toc_cell": false,
      "toc_position": {},
      "toc_section_display": true,
      "toc_window_display": false
    },
    "varInspector": {
      "cols": {
        "lenName": 16,
        "lenType": 16,
        "lenVar": 40
      },
      "kernels_config": {
        "python": {
          "delete_cmd_postfix": "",
          "delete_cmd_prefix": "del ",
          "library": "var_list.py",
          "varRefreshCmd": "print(var_dic_list())"
        },
        "r": {
          "delete_cmd_postfix": ") ",
          "delete_cmd_prefix": "rm(",
          "library": "var_list.r",
          "varRefreshCmd": "cat(var_dic_list()) "
        }
      },
      "types_to_exclude": [
        "module",
        "function",
        "builtin_function_or_method",
        "instance",
        "_Feature"
      ],
      "window_display": false
    }
  },
  "cells": [
    {
      "cell_type": "markdown",
      "metadata": {
        "id": "view-in-github",
        "colab_type": "text"
      },
      "source": [
        "<a href=\"https://colab.research.google.com/github/sudhirtakke/Building-a-Chatbot-and-Deploying-as-a-Flask-Web-App/blob/main/Building_a_Chatbot_and_Deploying_as_a_Flask_Web_App.ipynb\" target=\"_parent\"><img src=\"https://colab.research.google.com/assets/colab-badge.svg\" alt=\"Open In Colab\"/></a>"
      ]
    },
    {
      "cell_type": "markdown",
      "metadata": {
        "id": "skFAgIIACwVV"
      },
      "source": [
        "# <center>Building a Chatbot and Deploying as a Flask Web App</center>"
      ]
    },
    {
      "cell_type": "markdown",
      "metadata": {
        "id": "2rYEv9kJwWM1"
      },
      "source": [
        "## Table of Contents\n",
        "\n",
        "1. [Importing Libraries](#section1)<br><br>\n",
        "2. [Importing Data](#section2)<br><br>\n",
        "3. [Preprocessing the Data](#section3)\n",
        "  - 3.1 [Saving the clean_conversations list into a pickle file](#section301)<br><br>\n",
        "4. [Building the Model](#section4)\n",
        "  - 4.1 [Importing the clean_conversations pickle file](#section401)<br><br>\n",
        "  - 4.2 [Training](#section402)<br><br>\n",
        "5. [Chatting](#section5)<br><br>\n",
        "5. [Deploying as a Flask Web App](#section6)"
      ]
    },
    {
      "cell_type": "markdown",
      "metadata": {
        "id": "AMM6IEqi9hl4"
      },
      "source": [
        "<br><br>\n",
        "\n",
        "<center><img src=\"https://raw.githubusercontent.com/insaid2018/DeepLearning/master/images/chatbot.gif\" width=\"350\" height=\"400\"/></center>\n",
        "\n",
        "<br><br>"
      ]
    },
    {
      "cell_type": "markdown",
      "metadata": {
        "id": "G445ZUWfwWM1"
      },
      "source": [
        "<a id=section1></a>\n",
        "## 1. Importing Libraries"
      ]
    },
    {
      "cell_type": "markdown",
      "metadata": {
        "id": "Rr_7gLHt9hmB"
      },
      "source": [
        "- **Installing the required packages**"
      ]
    },
    {
      "cell_type": "markdown",
      "metadata": {
        "id": "CPP5W5KnuWZy"
      },
      "source": [
        "- The **`requirements.txt`** file will be present along with the notebook."
      ]
    },
    {
      "cell_type": "code",
      "metadata": {
        "colab": {
          "base_uri": "https://localhost:8080/"
        },
        "id": "5ALeQDyBRfz1",
        "outputId": "a49b01fd-a808-4d57-f161-6a5556d98482"
      },
      "source": [
        "!pip install -r requirements.txt"
      ],
      "execution_count": 3,
      "outputs": [
        {
          "output_type": "stream",
          "text": [
            "Collecting chatterbot_corpus\n",
            "  Cloning git://github.com/gunthercox/chatterbot-corpus (to revision master) to /tmp/pip-install-k0k49iec/chatterbot-corpus\n",
            "  Running command git clone -q git://github.com/gunthercox/chatterbot-corpus /tmp/pip-install-k0k49iec/chatterbot-corpus\n",
            "Collecting chatterbot\n",
            "\u001b[?25l  Downloading https://files.pythonhosted.org/packages/7c/21/85c2b114bd9dfabdd46ba58fc4519acdaed45d8c70898d40079e37a45e67/ChatterBot-1.0.8-py2.py3-none-any.whl (63kB)\n",
            "\u001b[K     |████████████████████████████████| 71kB 4.5MB/s \n",
            "\u001b[?25hCollecting mathparse<0.2,>=0.1\n",
            "  Downloading https://files.pythonhosted.org/packages/c3/e5/4910fb85950cb960fcf3f5aabe1c8e55f5c9201788a1c1302b570a7e1f84/mathparse-0.1.2-py3-none-any.whl\n",
            "Requirement already satisfied: python-dateutil<2.9,>=2.8 in /usr/local/lib/python3.7/dist-packages (from -r requirements.txt (line 4)) (2.8.1)\n",
            "Collecting sqlalchemy<1.4,>=1.3\n",
            "\u001b[?25l  Downloading https://files.pythonhosted.org/packages/31/44/a86070dda790ce94cd7d9fb9281cd614c7d30850ed774ace9a84d0d5d491/SQLAlchemy-1.3.24-cp37-cp37m-manylinux2010_x86_64.whl (1.3MB)\n",
            "\u001b[K     |████████████████████████████████| 1.3MB 25.6MB/s \n",
            "\u001b[?25hRequirement already satisfied: pytz in /usr/local/lib/python3.7/dist-packages (from -r requirements.txt (line 6)) (2018.9)\n",
            "Requirement already satisfied: six>=1.5 in /usr/local/lib/python3.7/dist-packages (from python-dateutil<2.9,>=2.8->-r requirements.txt (line 4)) (1.15.0)\n",
            "Building wheels for collected packages: chatterbot-corpus\n",
            "  Building wheel for chatterbot-corpus (setup.py) ... \u001b[?25l\u001b[?25hdone\n",
            "  Created wheel for chatterbot-corpus: filename=chatterbot_corpus-1.2.0-py2.py3-none-any.whl size=242877 sha256=e6573b0249a30f35854dd176844f7bd3461f54faad1646722e803590d4433d6c\n",
            "  Stored in directory: /tmp/pip-ephem-wheel-cache-emea8gah/wheels/22/6d/f9/16c8108a67f0def97a7b464c7232cb7b4c637c2b881cc5a756\n",
            "Successfully built chatterbot-corpus\n",
            "Installing collected packages: chatterbot-corpus, sqlalchemy, mathparse, chatterbot\n",
            "  Found existing installation: SQLAlchemy 1.4.15\n",
            "    Uninstalling SQLAlchemy-1.4.15:\n",
            "      Successfully uninstalled SQLAlchemy-1.4.15\n",
            "Successfully installed chatterbot-1.0.8 chatterbot-corpus-1.2.0 mathparse-0.1.2 sqlalchemy-1.3.24\n"
          ],
          "name": "stdout"
        }
      ]
    },
    {
      "cell_type": "code",
      "metadata": {
        "id": "GPOf8SpPGHqV"
      },
      "source": [
        "import urllib\n",
        "import re\n",
        "import random"
      ],
      "execution_count": 4,
      "outputs": []
    },
    {
      "cell_type": "code",
      "metadata": {
        "id": "R_4V2wOWvZsY"
      },
      "source": [
        "import pickle\n"
      ],
      "execution_count": 5,
      "outputs": []
    },
    {
      "cell_type": "markdown",
      "metadata": {
        "id": "5OXnD0Xt9hmH"
      },
      "source": [
        "- **Importing chatterbot's chatbot libraries**\n",
        "\n",
        "<center><img src=\"https://raw.githubusercontent.com/insaid2018/DeepLearning/master/images/chatterbot.png\" width=\"600\" height=\"250\"></center>\n",
        "\n",
        "\n",
        "<br> "
      ]
    },
    {
      "cell_type": "markdown",
      "metadata": {
        "id": "INLWUyrW9hmH"
      },
      "source": [
        "- We are **using chatterbot library to build** our **Chatbot** because **it makes** it really **easy** to **train** and **build a chatbot without** any **major barriers**.\n",
        "\n",
        "<br>\n",
        "\n",
        "\n",
        "<br> "
      ]
    },
    {
      "cell_type": "code",
      "metadata": {
        "id": "HTl5WiN3PGod"
      },
      "source": [
        "from chatterbot import ChatBot\n",
        "from chatterbot.trainers import ListTrainer\n",
        "from chatterbot.trainers import ChatterBotCorpusTrainer"
      ],
      "execution_count": 6,
      "outputs": []
    },
    {
      "cell_type": "markdown",
      "metadata": {
        "id": "eAkrgLp59hmM"
      },
      "source": [
        "- **Importing Flask**"
      ]
    },
    {
      "cell_type": "code",
      "metadata": {
        "id": "_BMDURlOd8Ln"
      },
      "source": [
        "from flask import Flask, render_template, request"
      ],
      "execution_count": 7,
      "outputs": []
    },
    {
      "cell_type": "markdown",
      "metadata": {
        "id": "8stpFU9W9hmR"
      },
      "source": [
        "<a id=section2></a>\n",
        "## 2. Importing Data"
      ]
    },
    {
      "cell_type": "markdown",
      "metadata": {
        "id": "XmcnaWkq2Jr1"
      },
      "source": [
        "This corpus comes from the paper, \"**Chameleons in imagined conversations**: *A new approach to understanding coordination of linguistic style in dialogs*\" by **Cristian Danescu-Niculescu-Mizil** and **Lillian Lee**.\n",
        "\n",
        "The paper and up-to-date data can be found here: [http://www.cs.cornell.edu/~cristian/Cornell_Movie-Dialogs_Corpus.html](http://www.cs.cornell.edu/~cristian/Cornell_Movie-Dialogs_Corpus.html)\n",
        "\n",
        "Please see the **README** for more information on the authors' collection procedures."
      ]
    },
    {
      "cell_type": "code",
      "metadata": {
        "id": "GPcHMD3nwWM8"
      },
      "source": [
        "# Importing the dataset from github.\n",
        "response = urllib.request.urlopen('https://raw.githubusercontent.com/insaid2018/DeepLearning/master/Data/movie_lines.txt')\n",
        "lines = response.read()\n",
        "    \n",
        "lines = lines.decode('utf8', errors='ignore').split('\\n')"
      ],
      "execution_count": 8,
      "outputs": []
    },
    {
      "cell_type": "code",
      "metadata": {
        "colab": {
          "base_uri": "https://localhost:8080/"
        },
        "id": "P4v_pVL5a2bB",
        "outputId": "907ba62d-5f05-42ba-f503-ed552599c99e"
      },
      "source": [
        "type(lines)"
      ],
      "execution_count": 9,
      "outputs": [
        {
          "output_type": "execute_result",
          "data": {
            "text/plain": [
              "list"
            ]
          },
          "metadata": {
            "tags": []
          },
          "execution_count": 9
        }
      ]
    },
    {
      "cell_type": "code",
      "metadata": {
        "id": "zhQykBcHZT8I"
      },
      "source": [
        "response = urllib.request.urlopen('https://raw.githubusercontent.com/insaid2018/DeepLearning/master/Data/movie_conversations.txt')\n",
        "conversations = response.read()\n",
        "    \n",
        "conversations = conversations.decode('utf8', errors='ignore').split('\\n')"
      ],
      "execution_count": 10,
      "outputs": []
    },
    {
      "cell_type": "code",
      "metadata": {
        "colab": {
          "base_uri": "https://localhost:8080/"
        },
        "id": "mMQoZuBdZeho",
        "outputId": "8157f4fb-a5fe-43f3-8c7e-410721797dee"
      },
      "source": [
        "type(conversations)"
      ],
      "execution_count": 11,
      "outputs": [
        {
          "output_type": "execute_result",
          "data": {
            "text/plain": [
              "list"
            ]
          },
          "metadata": {
            "tags": []
          },
          "execution_count": 11
        }
      ]
    },
    {
      "cell_type": "markdown",
      "metadata": {
        "id": "RlmalDBu9hml"
      },
      "source": [
        "- Checking a few **samples** from the **dataset**.\n",
        "\n",
        "\n",
        "- Each element of the **lines** list contain a **dialog** said by a **character** in a movie."
      ]
    },
    {
      "cell_type": "code",
      "metadata": {
        "colab": {
          "base_uri": "https://localhost:8080/"
        },
        "id": "U1g09RUxwWND",
        "outputId": "73b9f7bd-6688-41d3-f6a1-081a33c64385"
      },
      "source": [
        "print(lines[0])\n",
        "print(lines[1])\n",
        "print(lines[2])"
      ],
      "execution_count": 12,
      "outputs": [
        {
          "output_type": "stream",
          "text": [
            "L1045 +++$+++ u0 +++$+++ m0 +++$+++ BIANCA +++$+++ They do not!\n",
            "L1044 +++$+++ u2 +++$+++ m0 +++$+++ CAMERON +++$+++ They do to!\n",
            "L985 +++$+++ u0 +++$+++ m0 +++$+++ BIANCA +++$+++ I hope so.\n"
          ],
          "name": "stdout"
        }
      ]
    },
    {
      "cell_type": "markdown",
      "metadata": {
        "id": "rTUQNP5U9hmr"
      },
      "source": [
        "- Each element of the **conversations** list contains a **list of interactions** between different **characters**."
      ]
    },
    {
      "cell_type": "code",
      "metadata": {
        "colab": {
          "base_uri": "https://localhost:8080/"
        },
        "id": "hpM-s9jqbK6Q",
        "outputId": "32f1c8c4-ba41-44d9-8c92-0df347bdc029"
      },
      "source": [
        "print(conversations[0])\n",
        "print(conversations[1])\n",
        "print(conversations[2])"
      ],
      "execution_count": 13,
      "outputs": [
        {
          "output_type": "stream",
          "text": [
            "u0 +++$+++ u2 +++$+++ m0 +++$+++ ['L194', 'L195', 'L196', 'L197']\n",
            "u0 +++$+++ u2 +++$+++ m0 +++$+++ ['L198', 'L199']\n",
            "u0 +++$+++ u2 +++$+++ m0 +++$+++ ['L200', 'L201', 'L202', 'L203']\n"
          ],
          "name": "stdout"
        }
      ]
    },
    {
      "cell_type": "markdown",
      "metadata": {
        "id": "ME208tVU9hmx"
      },
      "source": [
        "- Checking the **number of samples** in the dataset."
      ]
    },
    {
      "cell_type": "code",
      "metadata": {
        "colab": {
          "base_uri": "https://localhost:8080/"
        },
        "id": "UXsm6R0RwWNG",
        "outputId": "ba1f8b67-8cd2-4b38-bd35-29a4b2ad745b"
      },
      "source": [
        "len(lines)"
      ],
      "execution_count": 14,
      "outputs": [
        {
          "output_type": "execute_result",
          "data": {
            "text/plain": [
              "304714"
            ]
          },
          "metadata": {
            "tags": []
          },
          "execution_count": 14
        }
      ]
    },
    {
      "cell_type": "code",
      "metadata": {
        "colab": {
          "base_uri": "https://localhost:8080/"
        },
        "id": "s7eSfzbfVCJS",
        "outputId": "45338ec7-a547-47c0-de6a-805b8eafdde2"
      },
      "source": [
        "len(conversations)"
      ],
      "execution_count": 15,
      "outputs": [
        {
          "output_type": "execute_result",
          "data": {
            "text/plain": [
              "83098"
            ]
          },
          "metadata": {
            "tags": []
          },
          "execution_count": 15
        }
      ]
    },
    {
      "cell_type": "markdown",
      "metadata": {
        "id": "vaRw0gG19hm4"
      },
      "source": [
        "<a id=section3></a>\n",
        "## 3. Preprocessing the Data"
      ]
    },
    {
      "cell_type": "markdown",
      "metadata": {
        "id": "gAWeeV939hm5"
      },
      "source": [
        "- Creating a dictionary that **maps each line** and its **id**."
      ]
    },
    {
      "cell_type": "code",
      "metadata": {
        "id": "U_a2MA9fnI8V"
      },
      "source": [
        "id2line = {}\n",
        "for line in lines:\n",
        "    _line = line.split(' +++$+++ ')\n",
        "    if len(_line) == 5:\n",
        "        id2line[_line[0]] = _line[4]"
      ],
      "execution_count": 16,
      "outputs": []
    },
    {
      "cell_type": "code",
      "metadata": {
        "colab": {
          "base_uri": "https://localhost:8080/"
        },
        "id": "kTK5zcE1yZez",
        "outputId": "e1ba7a4d-004d-43ca-876e-0411d23859d1"
      },
      "source": [
        "id2line"
      ],
      "execution_count": 17,
      "outputs": [
        {
          "output_type": "execute_result",
          "data": {
            "text/plain": [
              "{'L1045': 'They do not!',\n",
              " 'L1044': 'They do to!',\n",
              " 'L985': 'I hope so.',\n",
              " 'L984': 'She okay?',\n",
              " 'L925': \"Let's go.\",\n",
              " 'L924': 'Wow',\n",
              " 'L872': \"Okay -- you're gonna need to learn how to lie.\",\n",
              " 'L871': 'No',\n",
              " 'L870': 'I\\'m kidding.  You know how sometimes you just become this \"persona\"?  And you don\\'t know how to quit?',\n",
              " 'L869': 'Like my fear of wearing pastels?',\n",
              " 'L868': 'The \"real you\".',\n",
              " 'L867': 'What good stuff?',\n",
              " 'L866': \"I figured you'd get to the good stuff eventually.\",\n",
              " 'L865': 'Thank God!  If I had to hear one more story about your coiffure...',\n",
              " 'L864': \"Me.  This endless ...blonde babble. I'm like, boring myself.\",\n",
              " 'L863': 'What crap?',\n",
              " 'L862': 'do you listen to this crap?',\n",
              " 'L861': 'No...',\n",
              " 'L860': 'Then Guillermo says, \"If you go any lighter, you\\'re gonna look like an extra on 90210.\"',\n",
              " 'L699': 'You always been this selfish?',\n",
              " 'L698': 'But',\n",
              " 'L697': \"Then that's all you had to say.\",\n",
              " 'L696': 'Well, no...',\n",
              " 'L695': \"You never wanted to go out with 'me, did you?\",\n",
              " 'L694': 'I was?',\n",
              " 'L693': 'I looked for you back at the party, but you always seemed to be \"occupied\".',\n",
              " 'L663': 'Tons',\n",
              " 'L662': 'Have fun tonight?',\n",
              " 'L578': 'I believe we share an art instructor',\n",
              " 'L577': 'You know Chastity?',\n",
              " 'L576': 'Looks like things worked out tonight, huh?',\n",
              " 'L575': 'Hi.',\n",
              " 'L407': \"Who knows?  All I've ever heard her say is that she'd dip before dating a guy that smokes.\",\n",
              " 'L406': \"So that's the kind of guy she likes? Pretty ones?\",\n",
              " 'L405': \"Lesbian?  No. I found a picture of Jared Leto in one of her drawers, so I'm pretty sure she's not harboring same-sex tendencies.\",\n",
              " 'L404': \"She's not a...\",\n",
              " 'L403': \"I'm workin' on it. But she doesn't seem to be goin' for him.\",\n",
              " 'L402': \"I really, really, really wanna go, but I can't.  Not unless my sister goes.\",\n",
              " 'L401': 'Sure have.',\n",
              " 'L368': \"Eber's Deep Conditioner every two days. And I never, ever use a blowdryer without the diffuser attachment.\",\n",
              " 'L367': 'How do you get your hair to look like that?',\n",
              " 'L366': \"You're sweet.\",\n",
              " 'L365': 'You have my word.  As a gentleman',\n",
              " 'L364': \"I counted on you to help my cause. You and that thug are obviously failing. Aren't we ever going on our date?\",\n",
              " 'L363': 'You got something on your mind?',\n",
              " 'L281': 'Where?',\n",
              " 'L280': 'There.',\n",
              " 'L277': \"Well, there's someone I think might be --\",\n",
              " 'L276': 'How is our little Find the Wench A Date plan progressing?',\n",
              " 'L275': 'Forget French.',\n",
              " 'L274': \"That's because it's such a nice one.\",\n",
              " 'L273': \"I don't want to know how to say that though.  I want to know useful things. Like where the good stores are.  How much does champagne cost?  Stuff like Chat.  I have never in my life had to point out my head to someone.\",\n",
              " 'L272': \"Right.  See?  You're ready for the quiz.\",\n",
              " 'L271': \"C'esc ma tete. This is my head\",\n",
              " 'L208': 'Let me see what I can do.',\n",
              " 'L207': 'Gosh, if only we could find Kat a boyfriend...',\n",
              " 'L206': \"That's a shame.\",\n",
              " 'L205': 'Unsolved mystery.  She used to be really popular when she started high school, then it was just like she got sick of it or something.',\n",
              " 'L204': 'Why?',\n",
              " 'L203': 'Seems like she could get a date easy enough...',\n",
              " 'L202': \"The thing is, Cameron -- I'm at the mercy of a particularly hideous breed of loser.  My sister.  I can't date until she does.\",\n",
              " 'L201': 'Cameron.',\n",
              " 'L200': \"No, no, it's my fault -- we didn't have a proper introduction ---\",\n",
              " 'L199': 'Forget it.',\n",
              " 'L198': \"You're asking me out.  That's so cute. What's your name again?\",\n",
              " 'L197': \"Okay... then how 'bout we try out some French cuisine.  Saturday?  Night?\",\n",
              " 'L196': 'Not the hacking and gagging and spitting part.  Please.',\n",
              " 'L195': \"Well, I thought we'd start with pronunciation, if that's okay with you.\",\n",
              " 'L194': 'Can we make this quick?  Roxanne Korrine and Andrew Barrett are having an incredibly horrendous public break- up on the quad.  Again.',\n",
              " 'L953': 'I did.',\n",
              " 'L952': \"You think you ' re the only sophomore at the prom?\",\n",
              " 'L660': \"I don't have to be home 'til two.\",\n",
              " 'L659': 'I have to be home in twenty minutes.',\n",
              " 'L600': \"All I know is -- I'd give up my private line to go out with a guy like Joey.\",\n",
              " 'L599': \"Sometimes I wonder if the guys we're supposed to want to go out with are the ones we actually want to go out with, you know?\",\n",
              " 'L598': \"Bianca, I don't think the highlights of dating Joey Dorsey are going to include door-opening and coat-holding.\",\n",
              " 'L597': \"Combination.  I don't know -- I thought he'd be different.  More of a gentleman...\",\n",
              " 'L596': 'Is he oily or dry?',\n",
              " 'L595': \"He practically proposed when he found out we had the same dermatologist. I mean. Dr. Bonchowski is great an all, but he's not exactly relevant party conversation.\",\n",
              " 'L580': 'Would you mind getting me a drink, Cameron?',\n",
              " 'L579': 'Great',\n",
              " 'L573': 'Joey.',\n",
              " 'L572': 'Who?',\n",
              " 'L571': 'Where did he go?  He was just here.',\n",
              " 'L51': 'You might wanna think about it',\n",
              " 'L50': 'No.',\n",
              " 'L49': 'Did you change your hair?',\n",
              " 'L760': \"You know the deal.  I can ' t go if Kat doesn't go --\",\n",
              " 'L759': 'Listen, I want to talk to you about the prom.',\n",
              " 'L758': \"You're concentrating awfully hard considering it's gym class.\",\n",
              " 'L757': 'Hi, Joey.',\n",
              " 'L756': 'Hey, sweet cheeks.',\n",
              " 'L593': \"My agent says I've got a good shot at being the Prada guy next year.\",\n",
              " 'L592': 'Neat...',\n",
              " 'L591': \"It's a gay cruise line, but I'll be, like, wearing a uniform and stuff.\",\n",
              " 'L590': 'Queen Harry?',\n",
              " 'L589': 'So yeah, I\\'ve got the Sears catalog thing going -- and the tube sock gig \" that\\'s gonna be huge.  And then I\\'m up for an ad for Queen Harry next week.',\n",
              " 'L397': 'Hopefully.',\n",
              " 'L396': \"Exactly  So, you going to Bogey Lowenbrau's thing on Saturday?\",\n",
              " 'L395': 'Expensive?',\n",
              " 'L394': \"It's more\",\n",
              " 'L1052': 'Perm?',\n",
              " 'L1051': 'Patrick -- is that- a.',\n",
              " 'L1022': \"It's just you.\",\n",
              " 'L1021': 'Is that woman a complete fruit-loop or is it just me?',\n",
              " 'L1011': 'No! I just wanted',\n",
              " 'L1010': 'What? To completely damage me?  To send me to therapy forever? What?',\n",
              " 'L1009': 'I just wanted --',\n",
              " 'L1008': 'You set me up.',\n",
              " 'L1007': 'Let go!',\n",
              " 'L983': 'So did you',\n",
              " 'L982': 'You looked beautiful last night, you know.',\n",
              " 'L914': \"I guess I'll never know, will I?\",\n",
              " 'L913': \"Not all experiences are good, Bianca. You can't always trust the people you want to.\",\n",
              " 'L912': \"God, you're just like him! Just keep me locked away in the dark, so I can't experience anything for myself\",\n",
              " 'L911': 'I guess I thought I was protecting you.',\n",
              " 'L910': \"I'm not stupid enough to repeat your mistakes.\",\n",
              " 'L909': \"That's not\",\n",
              " 'L908': \"No. you didn't!  If you really thought I could make my own decisions, you would've let me go out with him instead of helping Daddy hold me hostage.\",\n",
              " 'L907': 'I wanted to let you make up your own mind about him.',\n",
              " 'L906': \"Why didn't you tell me?\",\n",
              " 'L905': 'After that, I swore I\\'d never do anything just because \"everyone else\" was doing it.  And I haven\\'t since. Except for Bogey\\'s party, and my stunning gastro-intestinal display --',\n",
              " 'L904': 'But',\n",
              " 'L903': \"Just once.  Afterwards, I told him I didn't want to anymore.  I wasn't ready. He got pissed.  Then he broke up with me.\",\n",
              " 'L902': 'You did what?',\n",
              " 'L901': 'He said everyone was doing it.  So I did it.',\n",
              " 'L900': 'As in...',\n",
              " 'L899': 'Now I do.  Back then, was a different story.',\n",
              " 'L898': 'But you hate Joey',\n",
              " 'L897': 'He was, like, a total babe',\n",
              " 'L896': 'Why?',\n",
              " 'L895': 'In 9th.  For a month',\n",
              " 'L894': 'What?',\n",
              " 'L893': 'Joey never told you we went out, did he?',\n",
              " 'L892': \"I wish I had that luxury. I'm the only sophomore that got asked to the prom and I can't go, because you won ' t.\",\n",
              " 'L891': \"I do care. But I'm a firm believer in doing something for your own reasons, not someone else ' s .\",\n",
              " 'L890': 'Like you care.',\n",
              " 'L889': \"Listen, I know you hate having to sit home because I'm not Susie High School.\",\n",
              " 'L656': \"You're welcome.\",\n",
              " 'L655': \"I don't get you.  You act like you're too good for any of this, and then you go totally apeshit when you get here.\",\n",
              " 'L602': \"I really don't think I need any social advice from you right now.\",\n",
              " 'L601': 'Bianca, I need to talk to you -- I need to tell you --',\n",
              " 'L543': 'Can we go now?',\n",
              " 'L542': 'You are so completely unbalanced.',\n",
              " 'L533': \"Yeah, he's your freak friend Mandella's boyfriend.  I guess since I'm not allowed to go out, I should obsess over a dead guy, too.\",\n",
              " 'L532': \"It's Shakespeare.  Maybe you've heard of him?\",\n",
              " 'L531': \"Like I'm supposed to know what that even means.\",\n",
              " 'L530': \"At least I'm not a clouted fen- sucked hedge-pig.\",\n",
              " 'L529': \"Can't you forget for just one night that you're completely wretched?\",\n",
              " 'L527': \"Bogey Lowenstein's party is normal, but you're too busy listening to Bitches Who Need Prozac to know that.\",\n",
              " 'L526': \"What's normal?\",\n",
              " 'L525': \"You're ruining my life'  Because you won't be normal, I can't be normal.\",\n",
              " 'L445': \"I think you're a freak.  I think you do this to torture me.  And I think you suck.\",\n",
              " 'L444': 'What do you think?',\n",
              " 'L443': \"Oh, I thought you might have a date  I don't know why I'm bothering to ask, but are you going to Bogey Lowenstein's party Saturday night?\",\n",
              " 'L442': \"It means that Gigglepuss is playing at Club Skunk and we're going.\",\n",
              " 'L441': \"Oh my God, does this mean you're becoming normal?\",\n",
              " 'L320': 'Can you at least start wearing a bra?',\n",
              " 'L319': \"I have the potential to smack the crap out of you if you don't get out of my way.\",\n",
              " 'L165': 'Nowhere... Hi, Daddy.',\n",
              " 'L164': \"Where've you been?\",\n",
              " 'L923': \"I have a date, Daddy.  And he ' s not a captain of oppression like some men we know.\",\n",
              " 'L922': \"I'm missing something.\",\n",
              " 'L884': \"Fine.  I see that I'm a prisoner in my own house.  I'm not a daughter. I'm a possession!\",\n",
              " 'L883': \"You're not going unless your sister goes.  End of story.\",\n",
              " 'L882': 'He\\'s not a \"hot rod\".  Whatever that is.',\n",
              " 'L881': \"It's that hot rod Joey, right? That ' s who you want me to bend my rules for?\",\n",
              " 'L880': 'No, but',\n",
              " 'L879': 'The prom?  Kat has a date?',\n",
              " 'L878': \"Daddy, I want to discuss the prom with you. It's tomorrow night --\",\n",
              " 'L546': \"Because she'll scare them away.\",\n",
              " 'L545': 'Why?',\n",
              " 'L544': \"Promise me you won't talk to any boys unless your sister is present.\",\n",
              " 'L540': 'Just for a minute',\n",
              " 'L539': 'Daddy, no!',\n",
              " 'L538': 'Wear the belly before you go.',\n",
              " 'L537': \"It's just a party. Daddy.\",\n",
              " 'L536': \"Oh, God.  It's starting.\",\n",
              " 'L524': \"If Kat's not going, you're not going.\",\n",
              " 'L523': 'Daddy, people expect me to be there!',\n",
              " 'L521': 'It\\'s just a party. Daddy, but I knew you\\'d forbid me to go since \"Gloria Steinem\" over there isn\\'t going --',\n",
              " 'L520': 'Otherwise known as an orgy?',\n",
              " 'L519': 'If you must know, we were attempting to go to a small study group of friends.',\n",
              " 'L518': \"And where're you going?\",\n",
              " 'L517': 'Daddy, I --',\n",
              " 'L190': 'Exactly my point',\n",
              " 'L189': \"But she doesn't want to date.\",\n",
              " 'L183': \"But it's not fair -- she's a mutant, Daddy!\",\n",
              " 'L182': \"Then neither will you.  And I'll get to sleep at night.\",\n",
              " 'L181': 'What if she never starts dating?',\n",
              " 'L180': \"No! You're not dating until your sister starts dating.  End of discussion.\",\n",
              " 'L179': \"Now don't get upset. Daddy, but there's this boy... and I think he might ask...\",\n",
              " 'L463': \"Just sent 'em through.\",\n",
              " 'L462': 'Padua girls.  One tall, decent body. The other one kinda short and undersexed?',\n",
              " 'L461': 'Never',\n",
              " 'L460': 'Fan of a fan.  You see a couple of minors come in?',\n",
              " 'L459': \"Didn't have you pegged for a Gigglepuss fan.  Aren't they a little too pre-teen belly-button ring for you?\",\n",
              " 'L458': 'Always a pleasure, Brucie.',\n",
              " 'L779': \"Best case scenario, you're back on the payroll for awhile.\",\n",
              " 'L778': 'You humiliated the woman! Sacrifice yourself on the altar of dignity and even the score.',\n",
              " 'L586': \"No, I ' m not.\",\n",
              " 'L585': \"Buttholus extremus.  But hey, you're making progress.\",\n",
              " 'L584': \"The hell is that?  What kind of 'guy just picks up a girl and carries her away while you're talking to her?\",\n",
              " 'L583': 'Extremely unfortunate maneuver.',\n",
              " 'L500': \"Hell, I've just been going over the whole thing in my head and -\",\n",
              " 'L499': 'You told me that part already.',\n",
              " 'L433': \"It's her favorite band.\",\n",
              " 'L432': 'Assail your ears for one night.',\n",
              " 'L425': \"Okay!  I wasn't sure\",\n",
              " 'L424': \"He's pretty!\",\n",
              " 'L419': 'Dead at forty-one.',\n",
              " 'L418': 'Her favorite uncle',\n",
              " 'L417': \"It's a lung cancer issue\",\n",
              " 'L416': 'Number one.  She hates smokers',\n",
              " 'L391': \"Are you kidding?  He'll piss himself with joy.  He's the ultimate kiss ass.\",\n",
              " 'L390': 'Will Bogey get bent?',\n",
              " 'L389': \"In that case, we'll need to make it a school-wide blow out.\",\n",
              " 'L388': 'This is it.  A golden opportunity. Patrick can ask Katarina to the party.',\n",
              " 'L245': \"Like we had a choice?  Besides -- when you let the enemy think he's orchestrating the battle, you're in a position of power. We let him pretend he's calling the shots, and while he's busy setting up the plan, you have time to woo Bianca.\",\n",
              " 'L244': 'You got him involved?',\n",
              " 'L225': \"Hey -- I've gotta have a few clients when I get to Wall Street.\",\n",
              " 'L224': 'I thought you hated those people.',\n",
              " 'L223': \"You know, if you do go out with Bianca, you'd be set.  You'd outrank everyone. Strictly A-list.  With me by your side.\",\n",
              " 'L222': \"That's what I just said\",\n",
              " 'L221': \"Did she actually say she'd go out with you?\",\n",
              " 'L220': \"Forget his reputation.  Do you think we've got a plan or not?\",\n",
              " 'L219': \"I'm serious, man, he's whacked.  He sold his own liver on the black market so he could buy new speakers.\",\n",
              " 'L218': 'They always let felons sit in on Honors Biology?',\n",
              " 'L217': \"No kidding.  He's a criminal.  I heard he lit a state trooper on fire.  He just got out of Alcatraz...\",\n",
              " 'L216': 'He seems like he thrives on danger',\n",
              " 'L215': \"What makes you think he'll do it?\",\n",
              " 'L213': 'You wanna go out with him?',\n",
              " 'L212': 'What about him?',\n",
              " 'L211': \"Unlikely, but even so, she still can't go out with you.  So what's the point?\",\n",
              " 'L210': 'I teach her French, get to know her, dazzle her with charm and she falls in love with me.',\n",
              " 'L159': 'The mewling, rampalian wretch herself.',\n",
              " 'L158': \"That's her?  Bianca's sister?\",\n",
              " 'L157': 'Yeah, just a minor encounter with the shrew.',\n",
              " 'L147': 'You could consecrate with her, my friend.',\n",
              " 'L146': \"You mean I'd get a chance to talk to her?\",\n",
              " 'L145': 'Guess who just signed up for a tutor?',\n",
              " 'L144': \"Sure do ... my Mom's from Canada\",\n",
              " 'L143': 'You know French?',\n",
              " 'L142': \"Joey Dorsey?  Perma-shit-grin.  I wish I could say he's a moron, but he's number twelve in the class.  And a model.  Mostly regional stuff, but he's rumored to have a big tube sock ad coming out.\",\n",
              " 'L141': 'He always have that shit-eating grin?',\n",
              " 'L140': \"Because they're bred to.  Their mothers liked guys like that, and their grandmothers before them. Their gene pool is rarely diluted.\",\n",
              " 'L139': 'Why do girls like that always like guys like that?',\n",
              " 'L92': \"I could start with your haircut, but it doesn't matter.  She's not allowed to date until her older sister does.  And that's an impossibility.\",\n",
              " 'L91': 'Why not?',\n",
              " 'L90': \"Bianca Stratford.  Sophomore. Don't even think about it\",\n",
              " 'L89': 'Who is she?',\n",
              " 'L88': 'You burn, you pine, you perish?',\n",
              " 'L87': 'That girl -- I --',\n",
              " 'L78': 'Yeah, but these guys have never seen a horse.  They just jack off to Clint Eastwood.',\n",
              " 'L77': \"That I'm used to.\",\n",
              " 'L74': 'Couple thousand. Most of them evil',\n",
              " 'L73': 'How many people go here?',\n",
              " 'L72': 'Get out!',\n",
              " 'L71': 'Thirty-two.',\n",
              " 'L70': 'How many people were in your old school?',\n",
              " 'L69': \"Yeah.  A couple.  We're outnumbered by the cows, though.\",\n",
              " 'L68': 'I was kidding. People actually live there?',\n",
              " 'L67': \"North, actually.  How'd you   ?\",\n",
              " 'L66': 'So -- which Dakota you from?',\n",
              " 'L65': \"C'mon.  I'm supposed to give you the tour.\",\n",
              " 'L64': 'So they tell me...',\n",
              " 'L63': 'You the new guy?',\n",
              " 'L781': 'You get the girl.',\n",
              " 'L780': \"What's the worst?\",\n",
              " 'L745': 'Where?',\n",
              " 'L744': 'She kissed me.',\n",
              " 'L743': \"You makin' any headway?\",\n",
              " 'L741': \"She just needs time to cool off I'll give it a day.\",\n",
              " 'L740': \"She hates you with the fire of a thousand suns .  That's a direct quote\",\n",
              " 'L726': \"I don ' t know.  I decided not to nail her when she was too drunk to remember it.\",\n",
              " 'L725': \"What'd you do to her?\",\n",
              " 'L625': 'Then, go get her',\n",
              " 'L624': 'Sure',\n",
              " 'L623': 'Cameron -- do you like the girl?',\n",
              " 'L622': \"She's partial to Joey, not me\",\n",
              " 'L621': \"What 're you talking about?\",\n",
              " 'L620': \"It's off. The whole thing.\",\n",
              " 'L619': \"Cameron, I'm a little busy\",\n",
              " 'L431': \"Don't make me do it, man\",\n",
              " 'L430': 'Gigglepuss is playing there tomorrow night.',\n",
              " 'L427': \"So what does that give me?  I'm supposed to buy her some noodles and a book and sit around listening to chicks who can't play their instruments?\",\n",
              " 'L426': 'Okay -- Likes:  Thai food, feminist prose, and \"angry, stinky girl music of the indie-rock persuasion\".',\n",
              " 'L412': \"I've retrieved certain pieces of information on Miss Katarina Stratford I think you'll find helpful.\",\n",
              " 'L411': \"What've you got for me?\",\n",
              " 'L386': \"Yeah -- we'll see.\",\n",
              " 'L385': 'And he means that strictly in a non- prison-movie type of way.',\n",
              " 'L558': 'And why would I do that?',\n",
              " 'L557': 'Leave my sister alone.',\n",
              " 'L556': 'Your sister here?',\n",
              " 'L555': 'Away.',\n",
              " 'L554': 'Where ya goin?',\n",
              " 'L336': 'Not at all',\n",
              " 'L335': 'Hey -- do you mind?',\n",
              " 'L150': \"They're running the rest of me next month.\",\n",
              " 'L149': 'Yeah, and I noticed the only part of you featured in your big Kmart spread was your elbow.  Tough break.',\n",
              " 'L148': \"The vintage look is over, Kat. Haven't you been reading your Sassy?\",\n",
              " 'L748': \"Enough with the Barbie n' Ken shit. I know.\",\n",
              " 'L747': \"I don't know, Dorsey. ..the limo.-the flowers.  Another hundred for the tux --\",\n",
              " 'L609': 'Get her to act like a human',\n",
              " 'L608': 'Do what?',\n",
              " 'L607': \"How'd you do it?\",\n",
              " 'L606': \"A deal's a deal.\",\n",
              " 'L605': \"It's about time.\",\n",
              " 'L358': 'Forget her sister, then.',\n",
              " 'L357': 'Forget it.',\n",
              " 'L356': 'A hundred bucks a date.',\n",
              " 'L355': 'What?',\n",
              " 'L354': 'I just upped my price',\n",
              " 'L352': 'I got her under control. She just acts crazed in public to keep up the image.',\n",
              " 'L351': \"Watching the bitch trash my car doesn't count as a date.\",\n",
              " 'L350': \"I'm on it\",\n",
              " 'L349': 'When I shell out fifty, I expect results.',\n",
              " 'L301': \"Fifty, and you've got your man.\",\n",
              " 'L300': \"Take it or leave it.  This isn't a negotiation.\",\n",
              " 'L299': 'Fine, thirty.',\n",
              " 'L298': \"I can't take a girl like that out on twenty bucks.\",\n",
              " 'L297': 'How much?',\n",
              " 'L296': \"I can't date her sister until that one gets a boyfriend.  And that's the catch. She doesn't want a boyfriend.\",\n",
              " 'L295': \"You're gonna pay me to take out some girl?\",\n",
              " 'L294': 'You got it, Verona.  I pick up the tab, you do the honors.',\n",
              " 'L292': \"But you'd go out with her if you had the cake?\",\n",
              " 'L291': 'You need money to take a girl out',\n",
              " 'L290': 'You just said',\n",
              " 'L289': \"Sure, Sparky.  I'll get right on it.\",\n",
              " 'L288': 'Yeah, whatever.  I want you to go out with her.',\n",
              " 'L287': 'Two legs, nice rack...',\n",
              " 'L286': 'What do you think?',\n",
              " 'L285': 'Yeah',\n",
              " 'L509': \"Hey -- it's all for the higher good right?\",\n",
              " 'L508': \"You better not fuck this up.  I'm heavily invested.\",\n",
              " 'L505': 'What?  We took bathes together when we were kids.',\n",
              " 'L504': 'You and Verona?',\n",
              " 'L503': \"Uh,  yeah.  We're old friend*\",\n",
              " 'L502': \"I hear you're helpin' Verona.\",\n",
              " 'L240': \"So what you need to do is recruit a guy who'll go out with her.  Someone who's up for the job.\",\n",
              " 'L239': 'Does this conversation have a purpose?',\n",
              " 'L238': \"But she can't go out with you because her sister is this insane head case and no one will go out with her. right?\",\n",
              " 'L236': \"We're not.\",\n",
              " 'L235': \"Well, actually, I thought I'd run an idea by you.  You know, just to see if you're interested.\",\n",
              " 'L234': \"We don't chat.\",\n",
              " 'L233': 'Nope - just came by to chat',\n",
              " 'L232': 'Are you lost?',\n",
              " 'L231': 'Hey.',\n",
              " 'L949': \"Oh, honey -- tell me we haven't' progressed to full-on hallucinations.\",\n",
              " 'L948': 'William - he asked me to meet him here.',\n",
              " 'L947': 'Who?',\n",
              " 'L946': 'Have you seen him?',\n",
              " 'L755': 'Oh, good.  Something new and different for us.',\n",
              " 'L754': \"You ' re looking at this from the wrong perspective.  We're making a statement.\",\n",
              " 'L753': \"Okay, okay, we won't go.  It's not like I have a dress anyway\",\n",
              " 'L752': 'Listen to you!  You sound like Betty, all pissed off because Archie is taking Veronica.',\n",
              " 'L751': \"Well, I guess we're not, since we don't have dates .\",\n",
              " 'L750': 'Can you even imagine?  Who the hell would go to this a bastion of commercial excess?',\n",
              " 'L721': 'I got drunk.  I puked.  I got rejected. It was big fun.',\n",
              " 'L720': \"You didn't\",\n",
              " 'L719': 'I did Bianca a favor and it backfired.',\n",
              " 'L718': \"You didn't have a choice?  Where's Kat and what have you done with her?\",\n",
              " 'L717': \"I didn't have a choice.\",\n",
              " 'L716': 'You went to the party?  I thought we were officially opposed to suburban social activity.',\n",
              " 'L491': 'Who cares?',\n",
              " 'L490': \"What'd he say?\",\n",
              " 'L448': 'No fear.',\n",
              " 'L447': \"You think this'll work?\",\n",
              " 'L254': 'If I was Bianca, it would be, \"Any school you want, precious.  Don\\'t forget your tiara.\"',\n",
              " 'L253': 'Does it matter?',\n",
              " 'L252': \"I appreciate your efforts toward a speedy death, but I'm consuming.  Do you mind?\",\n",
              " 'L251': 'Neither has his heterosexuality.',\n",
              " 'L250': \"That's never been proven\",\n",
              " 'L249': \"William didn't even go to high school\",\n",
              " 'L248': 'William would never have gone to a state school.',\n",
              " 'L247': 'So he has this huge raging fit about Sarah Lawrence and insists that I go to his male-dominated, puking frat boy, number one golf team school. I have no say at all.',\n",
              " 'L152': \"You could always go with me.  I'm sure William has some friends.\",\n",
              " 'L151': 'The people at this school are so incredibly foul.',\n",
              " 'L134': \"But imagine the things he'd say during sex.\",\n",
              " 'L133': \"I realize that the men of this fine institution are severely lacking, but killing yourself so you can be with William Shakespeare is beyond the scope of normal teenage obsessions.  You're venturing far past daytime talk show fodder and entering the world of those who need very expensive therapy.\",\n",
              " 'L132': 'An attempted slit.',\n",
              " 'L131': \"What's this?\",\n",
              " 'L130': 'Just a little.',\n",
              " 'L129': 'Mandella, eat.  Starving yourself is a very slow way to die.',\n",
              " 'L128': 'Block E?',\n",
              " 'L127': 'He always look so',\n",
              " 'L126': \"I'm sure he's completely incapable of doing anything that interesting.\",\n",
              " 'L125': \"That's Pat Verona? The one who was gone for a year? I heard he was doing porn movies.\",\n",
              " 'L124': 'Patrick Verona   Random skid.',\n",
              " 'L123': \"Who's that?\",\n",
              " 'L1043': \"Don ' t you even dare. . .\",\n",
              " 'L1042': 'Oh, Bianca?  Can you get me my freshman yearbook?',\n",
              " 'L1041': 'Because I like to torture you.',\n",
              " 'L1040': 'Why is my veggie burger the only burnt object on this grill?',\n",
              " 'L1035': 'Yeah, but then I fucked up. I fell for her.',\n",
              " 'L1034': 'Is that right?',\n",
              " 'L1033': 'Besides, I had some extra cash. Some asshole paid me to take out a really great girl.',\n",
              " 'L1032': 'I thought you could use it. When you start your band.',\n",
              " 'L1031': 'A Fender Strat. You bought this?',\n",
              " 'L977': \"I didn't care about the money.\",\n",
              " 'L976': 'Really?  What was it like?  A down payment now, then a bonus for sleeping with me?',\n",
              " 'L975': \"It wasn't like that.\",\n",
              " 'L974': 'You were paid to take me out!  By -- the one person I truly hate.  I knew it was a set-up!',\n",
              " 'L973': 'Wait I...',\n",
              " 'L961': 'It gets worse -- you still have your freshman yearbook?',\n",
              " 'L960': \"That ' s completely adorable!\",\n",
              " 'L959': \"That's where I was last year.  She'd never lived alone -- my grandfather died -- I stayed with her.  I wasn't in jail, I don't know Marilyn Manson, and I've never slept with a Spice Girl.  I spent a year sitting next to my grandma on the couch watching Wheel of Fortune.  End of story.\",\n",
              " 'L958': 'What?',\n",
              " 'L957': \"My grandmother's .\",\n",
              " 'L940': \"Look, I'm  -- sorry -- that I questioned your motives.  I was wrong.\",\n",
              " 'L939': 'Oh huh',\n",
              " 'L938': \"It's just something I had.  You know\",\n",
              " 'L937': \"It's Scurvy's.  His date got convicted. Where'd you get the dress?\",\n",
              " 'L936': \"How'd you get a tux at the last minute?\",\n",
              " 'L857': \"Nothing!  There's nothing in it for me. Just the pleasure of your company.\",\n",
              " 'L856': 'Answer the question, Patrick',\n",
              " 'L855': 'You need therapy.  Has anyone ever told you that?',\n",
              " 'L854': 'You tell me.',\n",
              " 'L853': 'So I have to have a motive to be with you?',\n",
              " 'L852': 'Create a little drama?  Start a new rumor?  What?',\n",
              " 'L848': \"Because I don't want to. It's a stupid tradition.\",\n",
              " 'L847': 'Why not?',\n",
              " 'L846': \"No, I won't go with you\",\n",
              " 'L845': 'No what?',\n",
              " 'L844': 'No.',\n",
              " 'L843': 'You know what I mean',\n",
              " 'L842': 'Is that a request or a command?',\n",
              " 'L841': 'Go to the prom with me',\n",
              " 'L840': \"You're amazingly self-assured. Has anyone ever told you that?\",\n",
              " 'L839': 'No one else knows',\n",
              " 'L838': 'What?',\n",
              " 'L837': \"You're sweet.  And sexy.  And completely hot for me.\",\n",
              " 'L836': 'No -- something real.  Something no one else knows.',\n",
              " 'L835': 'I hate peas.',\n",
              " 'L834': 'Tell me something true.',\n",
              " 'L832': \"I know the porn career's a lie.\",\n",
              " 'L831': 'Hearsay.',\n",
              " 'L830': 'The duck?',\n",
              " 'L829': 'Fallacy.',\n",
              " 'L828': 'State trooper?',\n",
              " 'L825': 'For. . . ?',\n",
              " 'L824': 'You up for it?',\n",
              " 'L823': 'You never disappointed me.',\n",
              " 'L822': 'How?',\n",
              " 'L821': 'Then you screwed up',\n",
              " 'L820': 'Something like that',\n",
              " 'L819': \"So if you disappoint them from the start, you're covered?\",\n",
              " 'L818': \"I don't like to do what people expect. Then they expect it all the time and they get disappointed when you change.\",\n",
              " 'L817': 'Yes',\n",
              " 'L816': 'Acting the way we do.',\n",
              " 'L815': \"So what's your excuse?\",\n",
              " 'L814': \"Yeah, well, don't let it get out\",\n",
              " 'L813': 'A soft side? Who knew?',\n",
              " 'L812': 'I dazzled him with my wit',\n",
              " 'L811': \"So how'd you get Chapin to look the other way?\",\n",
              " 'L810': 'Good call.',\n",
              " 'L809': 'I figured it had to be something ridiculous to win your respect.  And piss you off.',\n",
              " 'L808': 'The Partridge Family?',\n",
              " 'L806': 'Maybe.',\n",
              " 'L805': 'You want me to climb up and show you how to get down?',\n",
              " 'L804': \"Forget it.  I'm stayin'.\",\n",
              " 'L803': 'Put your right foot there --',\n",
              " 'L802': \"Try lookin' at it from this angle\",\n",
              " 'L801': \"C'mon.  It's not that bad\",\n",
              " 'L800': \"I guess I never told you I'm afraid of heights.\",\n",
              " 'L799': 'Look up, sunshine',\n",
              " 'L798': 'He left!  I sprung the dickhead and he cruised on me.',\n",
              " 'L774': 'Other than my upchuck reflex? Nothing.',\n",
              " 'L773': 'So what did I have an effect on ?',\n",
              " 'L772': \"Don't for one minute think that you had any effect whatsoever on my panties.\",\n",
              " 'L771': 'Unwelcome?  I guess someone still has her panties in a twist.',\n",
              " 'L770': 'Unwelcome.',\n",
              " 'L769': 'Wholesome.',\n",
              " 'L768': 'Pleasant?',\n",
              " 'L767': \"You 're so --\",\n",
              " 'L766': 'I heard there was a poetry reading.',\n",
              " 'L765': 'What are you doing here?',\n",
              " 'L764': 'Excuse me, have you seen The Feminine Mystique?  I lost my copy.',\n",
              " 'L690': \"No offense, but you're sister is without.  I know everyone likes her and all, but ...\",\n",
              " 'L689': 'BIANCA',\n",
              " 'L688': 'Who?',\n",
              " 'L687': \"He just wants me to be someone I'm not.\",\n",
              " 'L686': \"So what ' s up with your dad?  He a pain in the ass?\",\n",
              " 'L684': \"I'm gettin' there\",\n",
              " 'L683': 'Oh, so now you think you know me?',\n",
              " 'L682': \"You don't strike me as the type that would ask permission.\",\n",
              " 'L681': \"My father wouldn't approve of that that\",\n",
              " 'L680': 'Start a band?',\n",
              " 'L679': 'This.',\n",
              " 'L678': 'Do what?',\n",
              " 'L677': 'I should do this.',\n",
              " 'L676': \"Why'd you lie?\",\n",
              " 'L675': \"Then why'd you ask?\",\n",
              " 'L674': \"No, you weren't\",\n",
              " 'L673': 'Maybe.',\n",
              " 'L672': 'Were you in jail?',\n",
              " 'L671': 'Busy',\n",
              " 'L670': 'When you were gone last year -- where were you?',\n",
              " 'L669': \"But it's Gigglepuss - I know you like them.  I saw you there.\",\n",
              " 'L668': \"And I'm in control of it.\",\n",
              " 'L651': 'What?',\n",
              " 'L650': 'Kat! Wake up!',\n",
              " 'L646': 'You know what they say',\n",
              " 'L645': 'I thought you were above all that',\n",
              " 'L644': 'Hey man. . .  You don \\' t think I can be \"cool\"?  You don\\'t think I can be \"laid back\" like everyone else?',\n",
              " 'L643': \"I know.  It'd have to be a pretty big deal to get you to mainline tequila. You don't seem like the type.\",\n",
              " 'L642': 'I hate him.',\n",
              " 'L641': 'Dorsey.',\n",
              " 'L640': 'Who?',\n",
              " 'L639': \"Why'd you let him get to you?\",\n",
              " 'L636': 'Just let me sit down.',\n",
              " 'L635': \"See that?  Who needs affection when I've got blind hatred?\",\n",
              " 'L634': 'Like you could find one',\n",
              " 'L633': \"Because then I'd have to start taking out girls who like me.\",\n",
              " 'L632': 'Why?',\n",
              " 'L631': 'Sure, I do',\n",
              " 'L630': \"You don't care if I die\",\n",
              " 'L629': 'I told you',\n",
              " 'L628': \"Why 're you doing this?\",\n",
              " 'L627': \"Leave it to you to use big words when you're shitfaced.\",\n",
              " 'L626': 'This is so patronizing.',\n",
              " 'L616': 'What if you have a concussion? My dog went to sleep with a concussion and woke up a vegetable. Not that I could tell the difference...',\n",
              " 'L615': 'I know, just let me sleep',\n",
              " 'L614': \"Uh, uh. You lie down and you'll go to sleep\",\n",
              " 'L613': 'I just need to lie down for awhile',\n",
              " 'L612': \"You're not okay.\",\n",
              " 'L611': \"I'm fine. I'm\",\n",
              " 'L610': 'Okay?',\n",
              " 'L567': \"Funny, you're the only one\",\n",
              " 'L566': 'I say, do what you wanna do.',\n",
              " 'L565': '\"I\\'m getting trashed, man.\" Isn\\'t that what you\\'re supposed to do at a party?',\n",
              " 'L564': \"What's this?\",\n",
              " 'L483': \"Why, don't you?\",\n",
              " 'L482': 'You know who The Raincoats are?',\n",
              " 'L481': \"You know, these guys are no Bikini Kill or The Raincoats, but they're right up there.\",\n",
              " 'L477': \"Do you mind?  You're sort of ruining it for me.\",\n",
              " 'L476': \"That's what you want, isn't it?\",\n",
              " 'L475': 'Excuse me?',\n",
              " 'L474': '',\n",
              " 'L473': 'hey.  Great show, huh?',\n",
              " 'L334': \"Depends on the topic. My fenders don't really whip me into a verbal frenzy.\",\n",
              " 'L333': \"You're not a big talker, are you?\",\n",
              " 'L332': 'Hi',\n",
              " 'L331': \"I was in the laundromat. I saw your car. Thought I'd say hi.\",\n",
              " 'L330': 'Are you following me?',\n",
              " 'L328': 'Seven-thirty?',\n",
              " 'L327': 'You -- covered in my vomit.',\n",
              " 'L326': 'Come on -- the ponies, the flat beer, you with money in your eyes, me with my hand on your ass...',\n",
              " 'L325': 'And why would I do that?',\n",
              " 'L324': \"Then say you'll spend Dollar Night at the track with me.\",\n",
              " 'L323': \"I don't really think you warrant that strong an emotion.\",\n",
              " 'L322': \"You hate me don't you?\",\n",
              " 'L313': 'I know a lot more than that',\n",
              " 'L312': 'Like where?  The 7-Eleven on Burnside? Do you even know my name, screwboy?',\n",
              " 'L311': \"The night I take you to places you've never been before.  And back.\",\n",
              " 'L310': 'Oh, right.  Friday.',\n",
              " 'L309': 'Pick you up Friday, then',\n",
              " 'L307': 'My mission in life.',\n",
              " 'L306': \"There's a way to get a guy's attention.\",\n",
              " 'L305': 'Sweating like a pig, actually.  And yourself?',\n",
              " 'L304': \"I mean Wo-man.  How ya doin'?\",\n",
              " 'L1000': \"Oh, Christ.  Don't tell me you've changed your mind.  I already sent 'em a check.\",\n",
              " 'L999': 'When I go?',\n",
              " 'L998': \"You know, fathers don't like to admit that their daughters are capable of running their own lives.  It means we've become spectators.  Bianca still lets me play a few innings.  You've had me on the bleachers for years.  When you go to Sarah Lawrence, I won't even be able to watch the game.\",\n",
              " 'L997': 'No -- impressed.',\n",
              " 'L996': \"What's the matter?  Upset that I rubbed off on her?\",\n",
              " 'L995': 'Bianca did what?',\n",
              " 'L994': 'The part where Bianca beat the hell out of some guy.',\n",
              " 'L993': 'Which parts?',\n",
              " 'L992': 'Parts of it.',\n",
              " 'L991': 'So tell me about this dance. Was it fun?',\n",
              " 'L990': 'No, Daddy.',\n",
              " 'L989': \"I don't understand the allure of dehydrated food.  Is this something I should be hip to?\",\n",
              " 'L988': 'Funny.',\n",
              " 'L987': 'Yeah.  She left with some bikers Big ones.  Full of sperm.',\n",
              " 'L986': 'Was that your sister?',\n",
              " 'L347': 'I want to go to an East Coast school! I want you to trust me to make my own choices.  I want --',\n",
              " 'L346': \"You're eighteen.  You don't know what you want.  You won't know until you're forty-five and you don't have it.\",\n",
              " 'L345': \"So what I want doesn't matter?\",\n",
              " 'L344': \"As a parent, that's my right\",\n",
              " 'L343': \"Because you're making decisions for me.\",\n",
              " 'L342': \"Why can't we agree on this?\",\n",
              " 'L341': 'I thought you were punishing me.',\n",
              " 'L340': 'Is this about Sarah Lawrence? You punishing me?',\n",
              " 'L339': 'Then tell them I had a seizure.',\n",
              " 'L338': 'My insurance does not cover PMS',\n",
              " 'L185': 'Enough!',\n",
              " 'L184': 'This from someone whose diary is devoted to favorite grooming tips?',\n",
              " 'L174': 'You decided.',\n",
              " 'L173': 'I thought we decided you were going to school here.  At U of 0.',\n",
              " 'L172': 'I know.',\n",
              " 'L1018': 'Just smack her now.',\n",
              " 'L1017': 'Am I supposed to feel better? Like, right now?  Or do I have some time to think about it?',\n",
              " 'L109': 'No ... I believe \"heinous bitch\" is the term used most often.',\n",
              " 'L108': 'Tempestuous?',\n",
              " 'L107': 'The point is Kat -- people perceive you as somewhat ...',\n",
              " 'L106': 'I still maintain that he kicked himself in the balls.  I was merely a spectator.',\n",
              " 'L105': \"Well, yes, compared to your other choices of expression this year, today's events are quite mild.  By the way, Bobby Rictor's gonad retrieval operation went quite well, in case you're interested.\",\n",
              " 'L104': 'Expressing my opinion is not a terrorist action.',\n",
              " 'L103': \"Katarina Stratford.  My, my.  You've been terrorizing Ms. Blaise again.\",\n",
              " 'L738': 'Yeah...',\n",
              " 'L737': 'Kat a fan, too?',\n",
              " 'L736': 'Right.',\n",
              " 'L735': 'Macbeth, right?',\n",
              " 'L733': 'Oh yeah.',\n",
              " 'L732': 'You think?',\n",
              " 'L731': 'Yeah.  I guess.',\n",
              " 'L730': 'Cool pictures.  You a fan?',\n",
              " 'L729': 'Hi.',\n",
              " 'L728': 'Hey there.  Tired of breathing?',\n",
              " 'L777': \"Man -- don't say shit like that to  me. People can hear you.\",\n",
              " 'L776': 'Sweet love, renew thy force!',\n",
              " 'L775': \"You were right. She's still pissed.\",\n",
              " 'L724': \"No - I've got a sweet-payin' job that I'm about to lose.\",\n",
              " 'L723': 'So you got cozy with she who stings?',\n",
              " 'L437': \"I'm likin' you guys better\",\n",
              " 'L436': 'I prefer to think of it simply as an alternative to what the law allows.',\n",
              " 'L429': 'Yeah.',\n",
              " 'L428': 'Ever been to Club Skunk?',\n",
              " 'L421': 'Just for now.',\n",
              " 'L420': 'Are you telling me I\\'m a -  \"non-smoker\"?',\n",
              " 'L415': 'Good enough.',\n",
              " 'L414': 'What?!',\n",
              " 'L384': \"We're your guys.\",\n",
              " 'L383': 'You two are gonna help me tame the wild beast?',\n",
              " 'L382': \"Patrick, Pat, you're not looking at the big picture.  Joey's just a pawn. We set this whole thing up so Cameron can get the girl.\",\n",
              " 'L381': 'So Dorsey can get the girl?',\n",
              " 'L380': \"That's where we can help you.  With Kat.\",\n",
              " 'L379': \"Dorsey can plow whoever he wants. I'm just in this for the cash.\",\n",
              " 'L378': \"I think I speak correctly when I say that Cameron's love is pure.  Purer than say -- Joey Dorsey's.\",\n",
              " 'L377': 'What is it with this chick?  She have three tits?',\n",
              " 'L376': 'The situation is, my man Cameron here has a major jones for Bianca Stratford.',\n",
              " 'L375': 'What plan?',\n",
              " 'L373': \"Whatever the hell it is you're standin' there waitin' to say.\",\n",
              " 'L372': 'What?',\n",
              " 'L371': 'Say it',\n",
              " 'L512': 'See you next week!',\n",
              " 'L511': \"You're completely demented.\",\n",
              " 'L264': \"Well, you know -- there's the prestige of the job title... and the benefits package is pretty good...\",\n",
              " 'L263': \"You weren't abused, you aren't stupid, and as far as I can tell, you're only slightly psychotic -- so why is it that you're such a fuck-up?\",\n",
              " 'L262': \"What's to discuss?\",\n",
              " 'L261': \"Why don't we discuss your driving need to be a hemorrhoid?\",\n",
              " 'L259': \"I'm at a loss, then.  What should we talk about? Your year of absence?\",\n",
              " 'L258': 'Touch of the flu.',\n",
              " 'L257': \"I don't understand, Patrick.  You haven't done anything asinine this week. Are you not feeling well?\",\n",
              " 'L62': 'With the teeth of your zipper?',\n",
              " 'L61': 'It was a bratwurst.  I was eating lunch.',\n",
              " 'L60': 'It says here you exposed yourself to a group of freshmen girls.',\n",
              " 'L59': 'I missed you.',\n",
              " 'L933': \"That ' s what I thought\",\n",
              " 'L932': 'Absolutely not.',\n",
              " 'L931': 'Did I have anything to say about it?',\n",
              " 'L930': 'Your daughters went to the prom.',\n",
              " 'L929': 'What just happened?',\n",
              " 'L927': 'But -- who -- what --?',\n",
              " 'L926': 'Have a great time, honey!',\n",
              " 'L918': 'Dr. Ruth?',\n",
              " 'L917': \"What do you wanna watch?  We've got crap, crap, crap or crap\",\n",
              " 'L887': \"Kissing?  Is that what you think happens?  Kissing isn't what keeps me up to my elbows in placenta all day.\",\n",
              " 'L886': \"They'll dance, they'll kiss, they'll come home.  Let her go.\",\n",
              " 'L877': 'Pirate -- no question.',\n",
              " 'L876': 'Would you rather be ravished by a pirate or a British rear admiral?',\n",
              " 'L193': \"You're not helping.\",\n",
              " 'L192': 'Tumescent!',\n",
              " 'L191': 'Jesus!  Can a man even grab a sandwich before you women start dilating?',\n",
              " 'L171': 'Sarah Lawrence is on the other side of the country.',\n",
              " 'L170': \"What's a synonym for throbbing?\",\n",
              " 'L162': 'Make anyone cry today?',\n",
              " 'L161': 'In the microwave.',\n",
              " 'L2181': \"Can't be that far, I say.  Also, I don't like the smell of the sea around here.  Smells like a cunt. Bad sign...\",\n",
              " 'L2180': \"We left three weeks ago, Alonso. Can't be that near.\",\n",
              " 'L2179': 'We should have seen land.',\n",
              " 'L2177': \"We'll all go crazy...\",\n",
              " 'L2176': \"He's the devil's child...\",\n",
              " 'L2175': \"With a face like that?  I don't want you looking at me.  You hear?\",\n",
              " 'L2174': \"Ah, leave him alone.  He's doing no harm.\",\n",
              " 'L2173': 'What are you listening to, chicken ass?',\n",
              " 'L2172': \"You'll be drinking your own piss... For the glory of Spain... and Admiral Colon...!  Bastard!\",\n",
              " 'L2171': \"The water's going putrid in the barrels.\",\n",
              " 'L2170': 'I never seen heat like this!  Not even in Las Minas!',\n",
              " 'L2025': 'IF-GOD-WILLS-IT!',\n",
              " 'L2024': 'Asia can be found to the west -- and I will prove it.',\n",
              " 'L2023': 'Blind faith is what I consider heresy!',\n",
              " 'L2022': \"Don't you realize your words could be considered heretical?\",\n",
              " 'L2020': \"Did He not choose a carpenter's son to reveal Himself to the world?\",\n",
              " 'L2019': 'If God intended our proximity to Asia, do you believe he would have waited for you to show it to the world?',\n",
              " 'L2016': 'No.  The Portuguese have already discovered black-skinned people.  I, too, will find other populations -- and bring them to the word of God.',\n",
              " 'L2015': 'Is that all that interests you? Gold?',\n",
              " 'L2014': 'Trade, Your Excellency.  According to Marco Polo, the Kingdom of China is one of the richest of the world. Even the meanest buildings are roofed with gold.',\n",
              " 'L2012': 'If they agree to follow me, yes.',\n",
              " 'L2011': 'Your life, and that of others!',\n",
              " 'L2010': 'Your Eminence, there is only one way to settle the matter.  And that is to make the journey.  I am ready to risk my life to prove it possible.',\n",
              " 'L2006': 'Excellency, you are right.',\n",
              " 'L2005': 'Senor Colon, an experienced captain such as yourself will understand our concern with the crew.  I am not willing to have on my conscience the loss of men who would have relied upon our judgment.',\n",
              " 'L1993': 'Then you cannot ignore that according to their calculations, the circumference of the Earth is approximately...  22,000 leagues or more.  Which makes the ocean... uncrossable.',\n",
              " 'L1992': 'I am, Your Eminence',\n",
              " 'L1991': 'Unfortunately, Don Colon, that is precisely where our opinions differ...  Are you familiar with the work of Aristotle?  Erathostene?  Ptolemeus?',\n",
              " 'L1990': 'Yes, your Eminence.  The voyage should not take more than six or seven weeks.',\n",
              " 'L1989': 'You say Asia can be found by sailing west?',\n",
              " 'L2524': 'A waste...?  Let me tell you something, Arojaz.  If your name, or mine, is ever remembered -- it will only be because of his.',\n",
              " 'L2523': 'What a tragedy... what a waste of a life...',\n",
              " 'L2522': 'You can see for yourself.',\n",
              " 'L2275': 'On the contrary, Your Eminence.  It seems to me the man is preparing his own cross.',\n",
              " 'L2274': \"It won't be easy to get rid of your prophet now, Don Sanchez.\",\n",
              " 'L2031': 'Indeed.  The world is full of mercenaries -- and states often make use of them, when it benefits them.  My only concern is the welfare and prosperity of Spain.',\n",
              " 'L2030': 'He is a mercenary!  Did he not already try to convince the King of Portugal of his absurd notions?',\n",
              " 'L2029': 'Naturally.  But I would really deplore the loss of such a potential opportunity for Spain for a... dispute over a point of geography.',\n",
              " 'L2028': 'The Judgment is ours!',\n",
              " 'L2027': \"The State has some reason to be interested in this man's proposition, Your Eminence...\",\n",
              " 'L2540': \"I can't keep my eyes off you.  I would like to catch up with all the moments I didn't spend with you.\",\n",
              " 'L2539': 'What is it, now?  Tell me...',\n",
              " 'L2538': 'I am busy inside.',\n",
              " 'L2537': \"Can't you stay with us a little?\",\n",
              " 'L2474': \"Not everything... Do you think I care?  I'm a free man again.  Riches don't make a man rich, they only make him busier...\",\n",
              " 'L2473': 'They took everything...',\n",
              " 'L2472': \"They tried... but I didn't let them.\",\n",
              " 'L2471': \"God... you're so beautiful!  I can't believe no other man has ever taken you away from me...\",\n",
              " 'L2320': 'I can arrange for the Queen to take Fernando and Diego into her service.',\n",
              " 'L2319': \"You don't usually ask.\",\n",
              " 'L2318': 'Beatrix, I want to ask you something.',\n",
              " 'L2123': \"That's something you can't decide.\",\n",
              " 'L2122': \"I don't want you to wait for me.\",\n",
              " 'L2121': \"I'm not asking you to swear to anything.\",\n",
              " 'L2119': 'Thank God...',\n",
              " 'L2118': 'She said yes.',\n",
              " 'L1986': 'I find that hard to believe.',\n",
              " 'L1985': 'Perhaps I was never meant to live with a woman...',\n",
              " 'L1984': \"I'd love to argue with you sometimes.  But you're never here!\",\n",
              " 'L1983': 'Are we going to argue?',\n",
              " 'L1982': \"Well... that's true.  I have a child by a man who won't marry me!  Who's always leaving...\",\n",
              " 'L1981': \"I haven't given you much of a life.\",\n",
              " 'L1980': 'I know.',\n",
              " 'L1979': 'I could be gone for years.',\n",
              " 'L2432': 'I am afraid this is not the worst news.',\n",
              " 'L2431': 'How could I be?  The mainland has been found.  Exactly as I said it would.',\n",
              " 'L2430': 'I am not a seaman.  But I heard it is no more than a week at sea.  I hope you are not too disappointed.',\n",
              " 'L2429': 'How far from here?',\n",
              " 'L2426': 'Congratulations.  Then I am free to search for the mainland.',\n",
              " 'L2425': 'Viceroy of the West Indies.',\n",
              " 'L2424': 'Appointment to what?',\n",
              " 'L2423': 'My letters of appointment.',\n",
              " 'L2422': 'Yes... I remember...',\n",
              " 'L2421': 'Don Alonso de Bobadilla.',\n",
              " 'L2293': 'Bartolome and Giacomo Colon.',\n",
              " 'L2292': 'May I ask by whom?',\n",
              " 'L2291': 'Forgive me, Don Bobadilla -- those positions have already been taken.',\n",
              " 'L2290': 'I understand that you will soon be appointing Governors for the islands?  Is it not so?',\n",
              " 'L2552': 'Tell me the first thing that comes to your mind.',\n",
              " 'L2551': \"Really?  God... I wouldn't know where to start... and yet...\",\n",
              " 'L2550': 'I want you to tell me everything you remember, Father.  From the beginning.  Everything.',\n",
              " 'L2549': 'He never had one... except aboard my ships!',\n",
              " 'L2548': 'He asks when he can come to visit you.  He left his address.',\n",
              " 'L2547': 'What does he say?',\n",
              " 'L2542': \"I am not listening, Father.  But I can't help hearing.\",\n",
              " 'L2541': 'What are you listening to?',\n",
              " 'L2501': 'There must be a passage to that other ocean.',\n",
              " 'L2500': 'Father...',\n",
              " 'L2485': 'Not bad.',\n",
              " 'L2484': 'How are you feeling, Fernando?',\n",
              " 'L2440': 'This time with me!',\n",
              " 'L2439': 'I have to explore the mainland.',\n",
              " 'L2131': 'Yes... Yes, I do... On all of them!',\n",
              " 'L2130': 'Do you swear on all the Holy Saints in heaven?',\n",
              " 'L2129': 'You promise?  Do you swear on St. Christopher...?',\n",
              " 'L2128': \"There'll be a time.\",\n",
              " 'L2127': 'I want to go with you!',\n",
              " 'L2469': 'All of them created by people like me.',\n",
              " 'L2468': 'Roofs... towers, palaces... spires...',\n",
              " 'L2467': 'What do you see?',\n",
              " 'L2466': 'Look out of that window.',\n",
              " 'L2465': 'I am not afraid of you.  You are nothing but a dreamer.',\n",
              " 'L2464': 'Call them.',\n",
              " 'L2463': 'All I have to do is call the guards.',\n",
              " 'L2301': 'To rise so high, in so short a time, is a dangerous occupation.  A little hypocrisy goes a long way.',\n",
              " 'L2300': 'What...?  Do I have so many already?',\n",
              " 'L2299': 'You seem to have a special talent for making friends.',\n",
              " 'L2297': 'Good!  We are also in need of judges.  Except there are no thieves!',\n",
              " 'L2296': 'Don Bobadilla is already a judge, my Dear Don Cristobal.',\n",
              " 'L2295': 'But we do have a lack of notaries. You should contact my administration.',\n",
              " 'L2287': '... for a commoner?',\n",
              " 'L2286': 'You defend yourself admirably...',\n",
              " 'L2282': 'Forgive me, Don Colon.  But what about gold?',\n",
              " 'L2281': \"They don't see sin in their nakedness.  They live according to nature, in a never ending summer. The islands are covered with trees, filled with blossoms and fruits. And...\",\n",
              " 'L2110': \"If you won't accept our proposal, we'll simply find someone who will.\",\n",
              " 'L2109': 'And were you never ambitious, Excellency?  Or is ambition only a virtue among the nobles, a fault for the rest of us?',\n",
              " 'L2108': 'Then you are too ambitious.',\n",
              " 'L2107': \"I'm not bargaining!\",\n",
              " 'L2106': 'I remind you, Senor Colon, that you are in no position to bargain with me.',\n",
              " 'L2105': 'NO...!  I have waited too long, fought too hard.  Now you expect me to take all the risks while you take the profit!  No... I will not be your servant!',\n",
              " 'L2104': 'No?',\n",
              " 'L2103': 'No...',\n",
              " 'L2410': 'You never learned how to speak my language.',\n",
              " 'L2409': \"Utapan, won't you speak to me?  You used to know how to speak to me.\",\n",
              " 'L2394': 'You did the same to your God!',\n",
              " 'L2393': 'You have to find them, Utapan.  Look what they did!',\n",
              " 'L2343': 'Ask him if he will help.',\n",
              " 'L2342': 'He understands.',\n",
              " 'L2341': 'We will work with his people.  We want peace.  Ask the Chief if he understands?',\n",
              " 'L2260': 'He has medicine.  Tell him we admire his people.',\n",
              " 'L2259': 'Chief says...',\n",
              " 'L2258': '... and also to bring medicine.',\n",
              " 'L2257': 'Chief says -- he has a God.',\n",
              " 'L2256': 'To bring the word of God.',\n",
              " 'L2255': 'Why?',\n",
              " 'L2254': 'Thousands.',\n",
              " 'L2253': 'Chief says -- how many?',\n",
              " 'L2251': 'Tell him his country is very beautiful.  Tell him we are leaving men here -- to build a fort.',\n",
              " 'L2250': 'Chief knows.',\n",
              " 'L2249': 'Tell the Chief we thank him.',\n",
              " 'L2248': 'You come!  You speak first!',\n",
              " 'L2239': 'Island.  Far.',\n",
              " 'L2238': 'What is it?  A tribe?  An island?',\n",
              " 'L2237': 'Say not here!  Cuba!',\n",
              " 'L2535': \"I don't know... I have the impression that I didn't change that much.  I still can't accept the world as it is!\",\n",
              " 'L2534': 'Oh?  So you are a new man?',\n",
              " 'L2533': 'New worlds create new people.',\n",
              " 'L2532': 'I knew you would.',\n",
              " 'L2531': 'I have to disagree.',\n",
              " 'L2526': \"You'll always be older than me, Father.\",\n",
              " 'L2525': \"I suppose we're both old men now.\",\n",
              " 'L2145': 'Give me absolution.',\n",
              " 'L2144': 'I believed in you...',\n",
              " 'L2143': 'You are bound by an oath, Father.',\n",
              " 'L2142': \"My son, my son...  Your certitudes are sometimes frightening...  Christopher, you must speak to them. And if you don't I will.\",\n",
              " 'L2141': \"If I tell them, they won't follow me.  You know that I am right, Father.  You trust me...\",\n",
              " 'L2140': 'May God forgive you...!  You must tell them!  You must tell your men!',\n",
              " 'L2139': 'I am not sure... It could be twice the distance.',\n",
              " 'L2138': 'How long?',\n",
              " 'L2137': 'I lied.  The journey will be longer than I said.',\n",
              " 'L2136': 'What are you saying?',\n",
              " 'L2135': 'Father, I have betrayed my family. I betrayed my men.  And I betrayed you.',\n",
              " 'L2134': 'I am listening, my son.',\n",
              " 'L2133': 'Forgive me, Father.  For I have sinned.',\n",
              " 'L2132': 'In Nomine Patris et Filius, et Spiritus Sancti.',\n",
              " 'L2046': \"Colon!  Don't!\",\n",
              " 'L2045': 'All of them!  Just lies!',\n",
              " 'L2042': 'Damn all of you!  You all set up theories based on what?  You never leave the safety of your studies! Go out!  Find out what the world is about and then tell me something I can listen to!',\n",
              " 'L2041': 'Colon!',\n",
              " 'L2040': 'Damn God!',\n",
              " 'L2039': 'If God intends you to go, then you will go.',\n",
              " 'L2038': \"Wait!  I've waited seven years already!  How much longer do you want me to wait?\",\n",
              " 'L2037': \"You mustn't give way to despair. You must wait.\",\n",
              " 'L1969': 'Only God knows the meaning of such words, my son.',\n",
              " 'L1968': \"I've been contradicted all my life... Eternity!\",\n",
              " 'L1967': 'You get so carried away when you are being contradicted!',\n",
              " 'L1966': 'Passion is something one cannot control!',\n",
              " 'L1965': 'Father Marchena!',\n",
              " 'L1964': \"I'll try to remember that, Marchena...\",\n",
              " 'L1963': \"Two minutes... and already you're a dead man.  Don't let passion overwhelm you, Colon.\",\n",
              " 'L1962': 'So was Christ!',\n",
              " 'L1961': 'Esdras is a Jew.',\n",
              " 'L1960': 'The calculations of Toscanelli Marin de Tyr, Esdras...',\n",
              " 'L1959': 'How can you be so certain?',\n",
              " 'L1958': 'Ignorance!  I believe the Indies are no more than 750 leagues west of the Canary Islands.',\n",
              " 'L1957': 'How can you be so certain?  The Ocean is said to be infinite.',\n",
              " 'L1952': 'To open a new route to Asia.  At the moment there are only two ways of reaching it...',\n",
              " 'L1951': 'Why do you wish to sail west?',\n",
              " 'L1950': 'With some difficulty.  I had to promise them you were not a total fool.',\n",
              " 'L1949': 'How did you manage it?',\n",
              " 'L1948': \"That's what it says.\",\n",
              " 'L1947': \"God... That's in a week!\",\n",
              " 'L1943': 'Father, I am doing what I think is the best for him.  And he has the teacher I would have chosen for myself.',\n",
              " 'L1942': 'Diego is a bright boy -- a pleasure to teach -- but so serious... Brothers should be raised together, Colon.  Even brothers from different mothers...',\n",
              " 'L2459': 'Your Majesty -- some men are content to read about things.  I must see them with my own eyes.  I cannot be other than I am.',\n",
              " 'L2458': \"There is one thing I'd like to understand... Why do you want to go back, after all this?\",\n",
              " 'L2457': 'Thank you.',\n",
              " 'L2456': 'But without your brothers.  Nor are you to return to Santo Domingo or any of the other colonies.  You may explore the continent.',\n",
              " 'L2280': 'They come and go as naked as the day God created them...',\n",
              " 'L2279': 'Do they have such thoughts?',\n",
              " 'L2086': 'Thirty seven, Your Majesty... And you?',\n",
              " 'L2085': 'How old are you, Senor Colon?',\n",
              " 'L2082': 'A woman?',\n",
              " 'L2081': 'I know what I see.  I see someone who doesn\\'t accept the world as it is.  Who\\'s not afraid.  I see a women who thinks... \"What if?\"...',\n",
              " 'L2080': 'You show no inclination to speak otherwise!',\n",
              " 'L2079': 'May I speak freely?',\n",
              " 'L2077': 'Surely you can do anything you want.',\n",
              " 'L2076': 'I cannot ignore the verdict of my council.',\n",
              " 'L2075': 'That she was impregnable.',\n",
              " 'L2074': 'What did they say about Granada before today?',\n",
              " 'L2073': 'The ocean is uncrossable?',\n",
              " 'L2072': 'No more than the woman who said she would take Granada from the Moors.',\n",
              " 'L2071': 'I should not even be listening to you, since my council said no.  But Santangel tells me you are a man of honor and sincerity... And Sanchez, that you are not a fool.',\n",
              " 'L2389': 'You will regret this.',\n",
              " 'L2388': \"You'll be held in detention, deprived of your privileges and possessions.  Until you are returned to Spain where you will be judged. Have you anything to say?\",\n",
              " 'L2387': 'Savagery is what monkeys understand.',\n",
              " 'L2386': 'In one act of brutality, you have created chaos.  Tribes who were fighting each other are now joining forces against us!  All that because of your criminal savagery!',\n",
              " 'L2348': 'You did not hear me, Don Colon.  Not my horse.',\n",
              " 'L2347': 'Don Moxica -- we all have to work.',\n",
              " 'L2346': \"My horse doesn't work.\",\n",
              " 'L2345': \"We can't raise the wheel without it.\",\n",
              " 'L2333': 'We came here to stay!  To build! Not to start a crusade.  In this forest, there is enough danger to sweep us away in days!  So we will be brave and swallow our grief.  And in the name of those who died, we will accomplish what we came for.',\n",
              " 'L2332': \"We don't need to know.\",\n",
              " 'L2331': 'You want a war?  Fine.  We are a thousand.  They outnumber us by ten! Who will you kill?  Which tribe?',\n",
              " 'L2329': \"If you want to keep your head on your shoulders, you'll do as I say.\",\n",
              " 'L2328': 'We lost cousins, friends.  We will wash this in blood.',\n",
              " 'L2278': 'The Indians have no such word, Don Moxica.',\n",
              " 'L2277': \"And you say this is an Indian vice? By God!  I don't see any kind of pleasure that would make this a sin.\",\n",
              " 'L2492': \"We can't be.\",\n",
              " 'L2491': \"He's drawing an isthmus... He's saying we're on an isthmus.\",\n",
              " 'L2490': \"What's he doing?\",\n",
              " 'L2165': 'Twenty eight.',\n",
              " 'L2164': 'What do you read?',\n",
              " 'L2160': 'Come over here.',\n",
              " 'L2159': \"Well, I surely know what a quadrant is!  But I've never seen it used at night before.\",\n",
              " 'L2158': 'And what do you think Mendez?',\n",
              " 'L2157': \"Well... It's the men, Sir.  They wonder how you know our position. We've lost sight from land days ago...\",\n",
              " 'L2155': 'God be with us admiral.',\n",
              " 'L2154': 'Due west, Captain Mendez.  And may God be with us...',\n",
              " 'L2211': \"You're right.  Let the men decide.\",\n",
              " 'L2210': 'You tell that to them!',\n",
              " 'L2209': 'Pinzon, Pinzon... All we can do now is go forward!  Think about that!',\n",
              " 'L2208': 'You bloody...',\n",
              " 'L2207': 'You never did.  You did all the talking for both of us, remember?',\n",
              " 'L2206': 'Jesus Maria!  I should have never listened to you!',\n",
              " 'L2205': 'And then what?  Half of the water has gone, the rest is nearly putrid! You know that!',\n",
              " 'L2204': \"You don't know anything!  Listen Colon, these are my ships, right? So I'm telling you we're turning back!\",\n",
              " 'L2203': 'The land is there.  I know it!',\n",
              " 'L2202': \"We're lost!\",\n",
              " 'L2201': \"You think I don't know that?\",\n",
              " 'L2200': \"We're on the verge of a mutiny, Colon!\",\n",
              " 'L2199': 'We have to keep the hopes of these men alive!',\n",
              " 'L2198': 'You must be mad...!',\n",
              " 'L2197': 'Six days ago, yes.',\n",
              " 'L2196': \"You lied!  You cheated!  We're way past 750 leagues!\",\n",
              " 'L2065': 'Immediately.',\n",
              " 'L2064': 'Where can I meet this man?',\n",
              " 'L2462': 'Because he is not afraid of me.',\n",
              " 'L2461': 'Then why?',\n",
              " 'L2460': 'I know, I should not tolerate his impertinence.',\n",
              " 'L2419': 'And who would you think of, for such a task?',\n",
              " 'L2418': 'He must be replaced.',\n",
              " 'L2417': 'Then, what do you suggest, Don Sanchez?',\n",
              " 'L2415': 'Is this true, Brother Buyl?',\n",
              " 'L2414': '... But there is worse.  He ordered the execution of five members of the nobility...',\n",
              " 'L2377': \"We weren't expecting immediate profits, were we?  We must have faith.  We must give time for time.\",\n",
              " 'L2376': 'Every ship returns with a cargo of sick and dying.  But with no gold! The new world proves expensive, Your Majesty.',\n",
              " 'L2116': \"Yes.  It would be a pity, wouldn't it?  Call him back!\",\n",
              " 'L2115': '... Into a monk...',\n",
              " 'L2113': 'Never, Your Majesty.  Although...',\n",
              " 'L2112': 'You were right, Don Sanchez... His demands could never be granted.',\n",
              " 'L1931': 'Yes, Your Majesty.',\n",
              " 'L1930': 'Is that the man I knew, Treasurer Sanchez?',\n",
              " 'L3546': \"Officers, there's your killer, do your duty, arrest him!\",\n",
              " 'L3545': '...so we kill someone famous and if we are caught, we are sent to mental hospital...',\n",
              " 'L3497': \"I don't think it's abuse, I think it's torture.\",\n",
              " 'L3496': \"I'm abused.  Don't you think?\",\n",
              " 'L3493': 'Can I see your back?',\n",
              " 'L3492': 'Out on my back when I was a small boy.',\n",
              " 'L3491': 'Your father put cigarettes out on you?',\n",
              " 'L3490': \"That's what he did to me.  He put cigarettes out on me.\",\n",
              " 'L3489': 'Yeah, he hated me from day when I was born.  Put it out.  Can you put the cigarette out?',\n",
              " 'L3488': \"Your father blamed you for your mother's blindness?\",\n",
              " 'L3487': 'Yeah, yeah...bad doctor gave her bad drugs which made her go blind.  And my father blamed me for her blindness...',\n",
              " 'L3486': 'Back in the Czech Republic?',\n",
              " 'L3485': 'Yeah, she went blind giving birth to me. She went to fucking black market doctor to induce me.',\n",
              " 'L3484': 'Your mother was blind?',\n",
              " 'L3483': 'My father always degraded me.  Killed my self-esteem.  And my mother was blind.',\n",
              " 'L3482': 'Tell me about yourself.  What you did as a young boy... what your parents were like.',\n",
              " 'L3481': 'Give me another one, please.',\n",
              " 'L3480': \"I need to know about your background.  I need to know about your upbringing.  Why you're here.\",\n",
              " 'L3479': 'What else do you need?',\n",
              " 'L3478': 'This is not about money, Emil.  I need your trust in me.',\n",
              " 'L3477': \"Thirty-percent.  No more.  Or I call another lawyer.  This is the biggest case of your life.  Don't try to negotiate.  Thirty percent.  Say yes or no.\",\n",
              " 'L3476': \"But it's...\",\n",
              " 'L3475': 'No.  No way.',\n",
              " 'L3474': 'I would say...half.  Half is fair.',\n",
              " 'L3473': \"What's your cut?  How much?\",\n",
              " 'L3472': \"Look, I haven't really focused on that kind of thing.\",\n",
              " 'L3471': 'What about my movie rights?  Book rights?',\n",
              " 'L3470': \"Don't worry about him.  Think about yourself.\",\n",
              " 'L3469': 'No, he is here.  Shit...',\n",
              " 'L3468': \"Disappeared.  They're looking everywhere.  Maybe he went back to Czechoslovakia.\",\n",
              " 'L3467': 'What about Oleg?',\n",
              " 'L3466': \"Well, you didn't appreciate the severity of it until recently.  No question about that.\",\n",
              " 'L3465': 'I was all of these.',\n",
              " 'L3464': '...delusions and paranoia.',\n",
              " 'L3461': 'Oh, sure.',\n",
              " 'L3460': 'You bring the cigarettes?',\n",
              " 'L3459': \"I brought you some letters.  It's really fan mail.  Women mostly.  One wants to buy you clothes, another sent a check. Another wants a check.\",\n",
              " 'L3396': \"I'm invoking rights - this man is represented by counsel.  I'm coming with him.\",\n",
              " 'L3395': 'Yes.  Yes, come with me!',\n",
              " 'L3394': \"I'm coming with you.\",\n",
              " 'L3393': 'Where are we going?',\n",
              " 'L3392': \"Don't say anything.\",\n",
              " 'L3385': 'He has the camera!  He took the movie!',\n",
              " 'L3384': 'Emil.  Take it easy.  Stay with me.  Sit down.  What do you need?  What are you looking for?',\n",
              " 'L3383': 'Oh no!  No!  Shit!',\n",
              " 'L3382': 'Here.  I have your money.',\n",
              " 'L3381': \"I'm not your lawyer until I see the money.\",\n",
              " 'L3380': \"Are you my attorney?  I'm Emil.  I'm insane.\",\n",
              " 'L3517': 'Daphne, I...',\n",
              " 'L3516': \"I don't want to drag you down with me.\",\n",
              " 'L3515': '...Do you really want me to forget about you?',\n",
              " 'L3514': 'Forget about me.  You have enough problems of your own.',\n",
              " 'L3330': 'Pouring it out!',\n",
              " 'L3329': 'What are you doing?',\n",
              " 'L3318': \"I'll get my clothes.\",\n",
              " 'L3317': \"I'll make some for us.\",\n",
              " 'L3316': 'In the kitchen.',\n",
              " 'L3315': 'Do you have coffee?',\n",
              " ...}"
            ]
          },
          "metadata": {
            "tags": []
          },
          "execution_count": 17
        }
      ]
    },
    {
      "cell_type": "markdown",
      "metadata": {
        "id": "jgofCQw_9hm_"
      },
      "source": [
        "- Creating a list of **all** of the **conversations**."
      ]
    },
    {
      "cell_type": "code",
      "metadata": {
        "id": "4rnF7oOznlZa"
      },
      "source": [
        "conversations_ids = []\n",
        "for conversation in conversations[:-1]:\n",
        "    _conversation = conversation.split(' +++$+++ ')[-1][1:-1].replace(\"'\", \"\").replace(\" \", \"\")\n",
        "    conversations_ids.append(_conversation.split(','))"
      ],
      "execution_count": 18,
      "outputs": []
    },
    {
      "cell_type": "code",
      "metadata": {
        "colab": {
          "base_uri": "https://localhost:8080/"
        },
        "id": "TjZro7_My0Bm",
        "outputId": "b123cf94-9b53-49c3-991d-8dfdbf2297bd"
      },
      "source": [
        "conversations_ids[:5]"
      ],
      "execution_count": 19,
      "outputs": [
        {
          "output_type": "execute_result",
          "data": {
            "text/plain": [
              "[['L194', 'L195', 'L196', 'L197'],\n",
              " ['L198', 'L199'],\n",
              " ['L200', 'L201', 'L202', 'L203'],\n",
              " ['L204', 'L205', 'L206'],\n",
              " ['L207', 'L208']]"
            ]
          },
          "metadata": {
            "tags": []
          },
          "execution_count": 19
        }
      ]
    },
    {
      "cell_type": "markdown",
      "metadata": {
        "id": "8L-5F2yk9hnG"
      },
      "source": [
        "- Creating a list of **conversations** in **textual** format in the **sequence** they take place."
      ]
    },
    {
      "cell_type": "code",
      "metadata": {
        "id": "O9ZrXsc0nlXL"
      },
      "source": [
        "conversations = []\n",
        "for conversation in conversations_ids:\n",
        "    for i in range(len(conversation)):\n",
        "        conversations.append(id2line[conversation[i]])"
      ],
      "execution_count": 20,
      "outputs": []
    },
    {
      "cell_type": "code",
      "metadata": {
        "colab": {
          "base_uri": "https://localhost:8080/"
        },
        "id": "zp5q2VB4y0Yj",
        "outputId": "6d353cb6-f67d-4555-ae04-d704475a6079"
      },
      "source": [
        "conversations[:5]"
      ],
      "execution_count": 21,
      "outputs": [
        {
          "output_type": "execute_result",
          "data": {
            "text/plain": [
              "['Can we make this quick?  Roxanne Korrine and Andrew Barrett are having an incredibly horrendous public break- up on the quad.  Again.',\n",
              " \"Well, I thought we'd start with pronunciation, if that's okay with you.\",\n",
              " 'Not the hacking and gagging and spitting part.  Please.',\n",
              " \"Okay... then how 'bout we try out some French cuisine.  Saturday?  Night?\",\n",
              " \"You're asking me out.  That's so cute. What's your name again?\"]"
            ]
          },
          "metadata": {
            "tags": []
          },
          "execution_count": 21
        }
      ]
    },
    {
      "cell_type": "code",
      "metadata": {
        "colab": {
          "base_uri": "https://localhost:8080/"
        },
        "id": "GD5RjGjuy85A",
        "outputId": "fdc65254-e98e-43e6-be23-90ee7721a44c"
      },
      "source": [
        "conversations[-5:]"
      ],
      "execution_count": 22,
      "outputs": [
        {
          "output_type": "execute_result",
          "data": {
            "text/plain": [
              "['Lord Chelmsford seems to want me to stay back with my Basutos.',\n",
              " 'I think Chelmsford wants a good man on the border Why he fears a flanking attack and requires a steady Commander in reserve.',\n",
              " 'Well I assure you, Sir, I have no desire to create difficulties. 45',\n",
              " \"And I assure you, you do not In fact I'd be obliged for your best advice. What have your scouts seen?\",\n",
              " 'So far only their scouts. But we have had reports of a small Impi farther north, over there. ']"
            ]
          },
          "metadata": {
            "tags": []
          },
          "execution_count": 22
        }
      ]
    },
    {
      "cell_type": "code",
      "metadata": {
        "colab": {
          "base_uri": "https://localhost:8080/"
        },
        "id": "y6XXJIuRQ5ug",
        "outputId": "c314a92e-a489-449e-f3ed-e40001bb482f"
      },
      "source": [
        "len(conversations)"
      ],
      "execution_count": 23,
      "outputs": [
        {
          "output_type": "execute_result",
          "data": {
            "text/plain": [
              "304713"
            ]
          },
          "metadata": {
            "tags": []
          },
          "execution_count": 23
        }
      ]
    },
    {
      "cell_type": "markdown",
      "metadata": {
        "id": "R3a9WE5L9hnT"
      },
      "source": [
        "- *Function* to perform **cleaning** of the **texts**."
      ]
    },
    {
      "cell_type": "code",
      "metadata": {
        "id": "TUcdV3W6nlU8"
      },
      "source": [
        "def clean_text(text):\n",
        "    \n",
        "    text = text.lower().strip()      # Changing case to lower and stripping any white space from start and end of sentence.\n",
        "    text = re.sub(r\"i'm\", \"i am\", text)                       # Substituting some improper words with proper words \n",
        "    text = re.sub(r\"he's\", \"he is\", text)\n",
        "    text = re.sub(r\"she's\", \"she is\", text)\n",
        "    text = re.sub(r\"that's\", \"that is\", text)\n",
        "    text = re.sub(r\"what's\", \"what is\", text)\n",
        "    text = re.sub(r\"where's\", \"where is\", text)\n",
        "    text = re.sub(r\"how's\", \"how is\", text)\n",
        "    text = re.sub(r\"\\'s\", \" is\", text)\n",
        "    text = re.sub(r\"\\'ll\", \" will\", text)\n",
        "    text = re.sub(r\"\\'ve\", \" have\", text)\n",
        "    text = re.sub(r\"\\'re\", \" are\", text)\n",
        "    text = re.sub(r\"\\'d\", \" would\", text)\n",
        "    text = re.sub(r\"won't\", \"will not\", text)\n",
        "    text = re.sub(r\"can't\", \"cannot\", text)\n",
        "    text = re.sub(r\"n't\", \" not\", text)                       # Substituting some improper words with proper words\n",
        "    text = re.sub(r\"([-?.!,/\\\"])\", r\" \\1 \", text)             # Adding spaces before and after -?.!,/\\\"\n",
        "    text = re.sub(r\"[-()\\\"#/@;:<>{}`+=~|.!?,']\", \"\", text)    # Removing -()\\\"#/@;:<>{}`+=~|.!?,'\n",
        "    text = re.sub(r\"[ ]+\", \" \", text)                         # Replacing more than 1 space with a single space\n",
        "    text = text.rstrip().strip()                              # Stripping white space from start and end of sentence.\n",
        "    \n",
        "    return text"
      ],
      "execution_count": 24,
      "outputs": []
    },
    {
      "cell_type": "markdown",
      "metadata": {
        "id": "jYQpVhOk9hnX"
      },
      "source": [
        "- **Cleaning** the **conversations**."
      ]
    },
    {
      "cell_type": "code",
      "metadata": {
        "id": "49C78JEBnJAq"
      },
      "source": [
        "clean_conversations = []\n",
        "for conversation in conversations:\n",
        "    clean_conversations.append(clean_text(conversation))"
      ],
      "execution_count": 25,
      "outputs": []
    },
    {
      "cell_type": "code",
      "metadata": {
        "colab": {
          "base_uri": "https://localhost:8080/"
        },
        "id": "Dy0l3SQxzN_E",
        "outputId": "1158f7a7-e42e-41bd-a718-9eff716818bd"
      },
      "source": [
        "clean_conversations[:5]"
      ],
      "execution_count": 26,
      "outputs": [
        {
          "output_type": "execute_result",
          "data": {
            "text/plain": [
              "['can we make this quick roxanne korrine and andrew barrett are having an incredibly horrendous public break up on the quad again',\n",
              " 'well i thought we would start with pronunciation if that is okay with you',\n",
              " 'not the hacking and gagging and spitting part please',\n",
              " 'okay then how bout we try out some french cuisine saturday night',\n",
              " 'you are asking me out that is so cute what is your name again']"
            ]
          },
          "metadata": {
            "tags": []
          },
          "execution_count": 26
        }
      ]
    },
    {
      "cell_type": "markdown",
      "metadata": {
        "id": "hqPrdlYH9hnc"
      },
      "source": [
        "<a id=section301></a>\n",
        "### 3.1 Saving the clean_conversations list into a pickle file"
      ]
    },
    {
      "cell_type": "markdown",
      "metadata": {
        "id": "D9wCGNMH9hnd"
      },
      "source": [
        "- We are performing this step so that we can avoid the **data loading** and **preprocessing** steps every time we run the notebook. \n",
        "\n",
        "\n",
        "- We can **resume** directly from *Section 4: Building the Model* after **importing** the *libraries*.\n",
        "\n",
        "\n",
        "- Also, this allows us to **export** the preprocessed list of **clean_conversations** to any system we want."
      ]
    },
    {
      "cell_type": "code",
      "metadata": {
        "id": "FM4KMgU-vV7O"
      },
      "source": [
        "with open('clean_conversations.pickle', 'wb') as fp:\n",
        "    pickle.dump(clean_conversations, fp)"
      ],
      "execution_count": 27,
      "outputs": []
    },
    {
      "cell_type": "markdown",
      "metadata": {
        "id": "a-ghxH3S9hnk"
      },
      "source": [
        "<a id=section4></a>\n",
        "## 4. Building the Model"
      ]
    },
    {
      "cell_type": "markdown",
      "metadata": {
        "id": "RTXtV4Ap9hnk"
      },
      "source": [
        "<a id=section401></a>\n",
        "### 4.1 Importing the clean_conversations pickle file"
      ]
    },
    {
      "cell_type": "markdown",
      "metadata": {
        "id": "-YdPofLD9hnl"
      },
      "source": [
        "- **Loading** the preprocessed list **clean_conversations**."
      ]
    },
    {
      "cell_type": "code",
      "metadata": {
        "id": "EWjK5z_RvnzU"
      },
      "source": [
        "with open ('clean_conversations.pickle', 'rb') as fp:\n",
        "    clean_conversations = pickle.load(fp)"
      ],
      "execution_count": 28,
      "outputs": []
    },
    {
      "cell_type": "code",
      "metadata": {
        "colab": {
          "base_uri": "https://localhost:8080/"
        },
        "id": "wCd511rw3Nn8",
        "outputId": "b87d2fde-af00-4dce-af71-4848307ba483"
      },
      "source": [
        "clean_conversations[:5]"
      ],
      "execution_count": 29,
      "outputs": [
        {
          "output_type": "execute_result",
          "data": {
            "text/plain": [
              "['can we make this quick roxanne korrine and andrew barrett are having an incredibly horrendous public break up on the quad again',\n",
              " 'well i thought we would start with pronunciation if that is okay with you',\n",
              " 'not the hacking and gagging and spitting part please',\n",
              " 'okay then how bout we try out some french cuisine saturday night',\n",
              " 'you are asking me out that is so cute what is your name again']"
            ]
          },
          "metadata": {
            "tags": []
          },
          "execution_count": 29
        }
      ]
    },
    {
      "cell_type": "code",
      "metadata": {
        "colab": {
          "base_uri": "https://localhost:8080/"
        },
        "id": "N5nnMR3XBKnP",
        "outputId": "57025485-7010-4da0-a0b1-3bebf1b0a433"
      },
      "source": [
        "len(clean_conversations)"
      ],
      "execution_count": 30,
      "outputs": [
        {
          "output_type": "execute_result",
          "data": {
            "text/plain": [
              "304713"
            ]
          },
          "metadata": {
            "tags": []
          },
          "execution_count": 30
        }
      ]
    },
    {
      "cell_type": "markdown",
      "metadata": {
        "id": "C1tKTeLC9hnu"
      },
      "source": [
        "<a id=section402></a>\n",
        "### 4.2 Training"
      ]
    },
    {
      "cell_type": "markdown",
      "metadata": {
        "id": "2v3i6s9Q9hnv"
      },
      "source": [
        "- **Creating the bot**.\n",
        "<br><br> \n",
        "  - First we initiate the **Flask** app as a variable named **app**.\n",
        "<br><br> \n",
        "  - Then we create an object **bot** of **ChatBot** class and name the chatbot **Abot**."
      ]
    },
    {
      "cell_type": "code",
      "metadata": {
        "id": "IXB3e7d4MtwR"
      },
      "source": [
        "app = Flask(__name__)\n",
        "bot = ChatBot(\"Abot\")"
      ],
      "execution_count": 31,
      "outputs": []
    },
    {
      "cell_type": "markdown",
      "metadata": {
        "id": "LQQjjJUK9hny"
      },
      "source": [
        "- **Training** the bot on **Chatterbot's English corpus**. \n",
        "\n",
        "<br> \n",
        "\n",
        "<center><img src=\"https://raw.githubusercontent.com/insaid2018/DeepLearning/master/images/chatbot3.gif\" width=\"500\" height=\"300\"></center>\n",
        "\n",
        "<br> \n",
        "\n",
        "  - Here we create a **trainer** object of **ChatterBotCorpusTrainer** class and pass in our ChatBot object **bot** to it.\n",
        "<br><br>   \n",
        "  - Then we use the **train** method and pass **chatterbot.corpus.english** into it.\n",
        "<br><br>   \n",
        "  - This will train the chatbot over the **Chatterbot's** in-built **English** corpus. "
      ]
    },
    {
      "cell_type": "code",
      "metadata": {
        "colab": {
          "base_uri": "https://localhost:8080/"
        },
        "id": "7TNpobAo9ocZ",
        "outputId": "ddfd651f-aeb2-4847-8403-95b43abe081f"
      },
      "source": [
        "!pip install chatterbot\n",
        "!pip install chatterbot_corpus"
      ],
      "execution_count": 32,
      "outputs": [
        {
          "output_type": "stream",
          "text": [
            "Requirement already satisfied: chatterbot in /usr/local/lib/python3.7/dist-packages (1.0.8)\n",
            "Requirement already satisfied: python-dateutil<2.9,>=2.8 in /usr/local/lib/python3.7/dist-packages (from chatterbot) (2.8.1)\n",
            "Requirement already satisfied: sqlalchemy<1.4,>=1.3 in /usr/local/lib/python3.7/dist-packages (from chatterbot) (1.3.24)\n",
            "Requirement already satisfied: pytz in /usr/local/lib/python3.7/dist-packages (from chatterbot) (2018.9)\n",
            "Requirement already satisfied: mathparse<0.2,>=0.1 in /usr/local/lib/python3.7/dist-packages (from chatterbot) (0.1.2)\n",
            "Requirement already satisfied: six>=1.5 in /usr/local/lib/python3.7/dist-packages (from python-dateutil<2.9,>=2.8->chatterbot) (1.15.0)\n",
            "Requirement already satisfied: chatterbot_corpus in /usr/local/lib/python3.7/dist-packages (1.2.0)\n"
          ],
          "name": "stdout"
        }
      ]
    },
    {
      "cell_type": "code",
      "metadata": {
        "colab": {
          "base_uri": "https://localhost:8080/"
        },
        "id": "gYGliHiJd4Qo",
        "scrolled": false,
        "outputId": "9e3085b1-7ec9-4d2b-ee64-e5dd3d1a2fe4"
      },
      "source": [
        "trainer = ChatterBotCorpusTrainer(bot)\n",
        "trainer.train(\"chatterbot.corpus.english\")"
      ],
      "execution_count": 33,
      "outputs": [
        {
          "output_type": "stream",
          "text": [
            "Training ai.yml: [####################] 100%\n",
            "Training botprofile.yml: [####################] 100%\n",
            "Training computers.yml: [####################] 100%\n",
            "Training conversations.yml: [####################] 100%\n",
            "Training emotion.yml: [####################] 100%\n",
            "Training food.yml: [####################] 100%\n",
            "Training gossip.yml: [####################] 100%\n",
            "Training greetings.yml: [####################] 100%\n",
            "Training health.yml: [####################] 100%\n",
            "Training history.yml: [####################] 100%\n",
            "Training humor.yml: [####################] 100%\n",
            "Training literature.yml: [####################] 100%\n",
            "Training money.yml: [####################] 100%\n",
            "Training movies.yml: [####################] 100%\n",
            "Training politics.yml: [####################] 100%\n",
            "Training psychology.yml: [####################] 100%\n",
            "Training science.yml: [####################] 100%\n",
            "Training sports.yml: [####################] 100%\n",
            "Training trivia.yml: [####################] 100%\n"
          ],
          "name": "stdout"
        }
      ]
    },
    {
      "cell_type": "markdown",
      "metadata": {
        "id": "r-qJM9jN9hn2"
      },
      "source": [
        "- **Training** the bot on some **basic statements**.\n",
        "<br><br>\n",
        "  - Then we change the trainer into a **ListTrainer**.\n",
        "<br><br>   \n",
        "  - It trains the bot using **lists** of **conversations** as input.\n",
        "<br><br>\n",
        "  - Then we pass in some lists containing some conversations to the trainer's **train** method and train the bot on them."
      ]
    },
    {
      "cell_type": "code",
      "metadata": {
        "colab": {
          "base_uri": "https://localhost:8080/"
        },
        "id": "3B8jfnBvdiMS",
        "outputId": "fae1ae5b-908e-4805-dfd6-794143c35474"
      },
      "source": [
        "trainer = ListTrainer(bot)\n",
        "trainer.train(['hello', 'Hi', 'Hello', 'hi'])\n",
        "trainer.train(['What is your name?', 'My name is Abot'])\n",
        "trainer.train(['Who are you?', 'I am a bot' ])\n",
        "trainer.train(['Who created you?', 'A Human', 'You?'])"
      ],
      "execution_count": 34,
      "outputs": [
        {
          "output_type": "stream",
          "text": [
            "List Trainer: [####################] 100%\n",
            "List Trainer: [####################] 100%\n",
            "List Trainer: [####################] 100%\n",
            "List Trainer: [####################] 100%\n"
          ],
          "name": "stdout"
        }
      ]
    },
    {
      "cell_type": "markdown",
      "metadata": {
        "id": "fzxI0MDk9hn6"
      },
      "source": [
        "- **Training** the bot on the **movie conversations**.\n",
        "\n",
        "  - Here we pass the **clean_conversations** list to our trainer's **train** method and train the bot.\n",
        "\n",
        "  - This will take some time to train. Please be patient."
      ]
    },
    {
      "cell_type": "code",
      "metadata": {
        "id": "xvV4mKErdG_2"
      },
      "source": [
        "trainer.train(clean_conversations)"
      ],
      "execution_count": null,
      "outputs": []
    },
    {
      "cell_type": "markdown",
      "metadata": {
        "id": "nf-N5Xs79hn9"
      },
      "source": [
        "<a id=section5></a>\n",
        "## 5. Chatting"
      ]
    },
    {
      "cell_type": "markdown",
      "metadata": {
        "id": "iBqeoUhB9hn-"
      },
      "source": [
        "- Creating **end_list** and **chatbot_bye** lists which contain some **partings** from user and from bot respectively."
      ]
    },
    {
      "cell_type": "code",
      "metadata": {
        "id": "-59eaYINmiMi"
      },
      "source": [
        "end_list = ['bye', 'goodbye', 'see you later', 'see you soon', 'ciao', 'bi', 'bie', 'talk to you later']\n",
        "chatbot_bye = ['Bye', 'See you soon', 'Goodbye']"
      ],
      "execution_count": 36,
      "outputs": []
    },
    {
      "cell_type": "markdown",
      "metadata": {
        "id": "-nd6OaQT9hoC"
      },
      "source": [
        "- **To chat** with the bot in the **notebook**:\n",
        "\n",
        "<br> \n",
        "\n",
        "<center><img src=\"https://raw.githubusercontent.com/insaid2018/DeepLearning/master/images/chatbot_reply.jpg\" width=\"500\" height=\"300\"></center>\n",
        "\n",
        "<br>\n",
        "\n",
        "  - In this **loop**, we can chat with the bot.\n",
        "<br><br>\n",
        "  - Here, we use the **get_response** method of our chatbot object **bot** to get the output from the bot.\n",
        "<br><br>\n",
        "  - To **end** the conversation, just type in any of the partings from the **end_list**."
      ]
    },
    {
      "cell_type": "code",
      "metadata": {
        "id": "lM7yebUGr854",
        "colab": {
          "base_uri": "https://localhost:8080/"
        },
        "outputId": "ba8f0132-9c40-40db-a4b8-a1b1c348cc00"
      },
      "source": [
        "while True:\n",
        "    message = input('You: ')\n",
        "    if message.strip().lower() in end_list:\n",
        "        print('Abot:', random.choice(chatbot_bye))\n",
        "        break\n",
        "    reply = bot.get_response(message)\n",
        "    print('Abot:', reply)"
      ],
      "execution_count": 37,
      "outputs": [
        {
          "output_type": "stream",
          "text": [
            "You: hello\n",
            "Abot: Hi\n",
            "You: how are you\n",
            "Abot: I am on the Internet.\n",
            "You: Ok, how's the day today\n",
            "Abot: DO YOU PLAY SOCCER\n",
            "You: No\n",
            "Abot: So what's your favorite color?\n",
            "You: Green\n",
            "Abot: global organization promoting environmental activism.\n",
            "You: yeah\n",
            "Abot: It all makes sense to my artificial mind.\n",
            "You: bye\n",
            "Abot: Goodbye\n"
          ],
          "name": "stdout"
        }
      ]
    },
    {
      "cell_type": "markdown",
      "metadata": {
        "id": "HVyDBZFl9hoF"
      },
      "source": [
        "<br>\n",
        "\n",
        "<center><img src=\"https://raw.githubusercontent.com/insaid2018/DeepLearning/master/images/chatbot2.png\" width=\"500\" height=\"300\"></center>\n",
        "\n",
        "<br>"
      ]
    },
    {
      "cell_type": "markdown",
      "metadata": {
        "id": "6GUdz_Nq9hoG"
      },
      "source": [
        "<a id=section6></a>\n",
        "## 6. Deploying as a Flask Web App"
      ]
    },
    {
      "cell_type": "markdown",
      "metadata": {
        "id": "-k2BqljN9hoG"
      },
      "source": [
        "<br>\n",
        "\n",
        "<center><img src=\"https://raw.githubusercontent.com/insaid2018/DeepLearning/master/images/flask.png\" width=\"350\" height=\"180\"></center>\n",
        "\n",
        "<br>\n",
        "\n",
        "- Defining the **Flask** web app for our chatbot.\n",
        "<br><br> \n",
        "  - `@app.route(\"/\")` will set the directory of this notebook as the **root** directory for our Flask app.\n",
        "<br><br>   \n",
        "  - In the **home** function we define the **HTML** template for our web app.\n",
        "<br><br>     \n",
        "    - We use **render_template** funtion to provide the location of our HTML file **chatbot.html**.\n",
        "<br><br>    \n",
        "    - The **chatbot.html** file must be located in the **templates** folder in the root directory of our Flask app.\n",
        "<br><br>     \n",
        "    - The current **root** directory of our Flask app is the same folder in which this notebook is located."
      ]
    },
    {
      "cell_type": "code",
      "metadata": {
        "id": "HYiZU2LIdrHf"
      },
      "source": [
        "@app.route(\"/\")\n",
        "def home():\n",
        "    return render_template(\"chatbot.html\")"
      ],
      "execution_count": 38,
      "outputs": []
    },
    {
      "cell_type": "markdown",
      "metadata": {
        "id": "DsB2QU3h9hoL"
      },
      "source": [
        "- Here we make the **connection** of our chatbot with the Flask app.\n",
        "<br><br> \n",
        "  - `@app.route(\"/get\")` will allow us to get the **user input** provided in the web app.\n",
        "<br><br>   \n",
        "  - **get_bot_response** funtion allows us to send replies to the user input.\n",
        "<br><br>   \n",
        "    - First, we save the user input into a variable **user_text**.\n",
        "<br><br>   \n",
        "    - Then if the *user_text* value is present in *end_list*, then we set **reply** equal to one of the values present in *chatbot_bye* list randomly.\n",
        "<br><br>  \n",
        "    - If not, then we set **reply** equal to the bot response as a string, after passing the **user_text** to the **get_response** method of our chatbot object **bot**.\n",
        "<br><br> \n",
        "    - Finally, we **return** the reply value."
      ]
    },
    {
      "cell_type": "code",
      "metadata": {
        "id": "Rm7ht-FDdrMz"
      },
      "source": [
        "@app.route(\"/get\")\n",
        "def get_bot_response():\n",
        "    user_text = request.args.get('msg')\n",
        "    \n",
        "    if user_text.strip().lower() in end_list:\n",
        "        reply = random.choice(chatbot_bye)\n",
        "    else:\n",
        "        reply = str(bot.get_response(user_text))\n",
        "\n",
        "    return reply"
      ],
      "execution_count": 39,
      "outputs": []
    },
    {
      "cell_type": "markdown",
      "metadata": {
        "id": "phD8QFRx9hoO"
      },
      "source": [
        "- Then we run the Flask app using **app.run()**."
      ]
    },
    {
      "cell_type": "code",
      "metadata": {
        "id": "vdAq2u4bdrQA"
      },
      "source": [
        "if __name__ == \"__main__\":\n",
        "    app.run()"
      ],
      "execution_count": null,
      "outputs": []
    },
    {
      "cell_type": "markdown",
      "metadata": {
        "id": "nsNZTR64lPiT"
      },
      "source": [
        "<br>\n",
        "\n",
        "- The **chatbot** can be accessed in your **web browser** using the above **address**."
      ]
    }
  ]
}